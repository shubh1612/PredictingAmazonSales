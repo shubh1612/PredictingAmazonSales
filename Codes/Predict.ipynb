{
  "nbformat": 4,
  "nbformat_minor": 0,
  "metadata": {
    "colab": {
      "name": "Predict.ipynb",
      "version": "0.3.2",
      "provenance": [],
      "collapsed_sections": []
    },
    "kernelspec": {
      "name": "python3",
      "display_name": "Python 3"
    },
    "accelerator": "GPU"
  },
  "cells": [
    {
      "metadata": {
        "id": "LeOakWfVdT67",
        "colab_type": "code",
        "outputId": "cc4be185-c327-463f-a8fe-3a209b71413c",
        "colab": {
          "base_uri": "https://localhost:8080/",
          "height": 34
        }
      },
      "cell_type": "code",
      "source": [
        "from google.colab import drive\n",
        "drive.mount('/content/drive')"
      ],
      "execution_count": 18,
      "outputs": [
        {
          "output_type": "stream",
          "text": [
            "Drive already mounted at /content/drive; to attempt to forcibly remount, call drive.mount(\"/content/drive\", force_remount=True).\n"
          ],
          "name": "stdout"
        }
      ]
    },
    {
      "metadata": {
        "id": "8XrNwDZjK4fn",
        "colab_type": "code",
        "outputId": "5704a8ec-6d73-48ec-c8f8-11f587bde852",
        "colab": {
          "base_uri": "https://localhost:8080/",
          "height": 598
        }
      },
      "cell_type": "code",
      "source": [
        "!pip3 install cython\n",
        "!pip3 install tables\n",
        "!pip3 install statsmodels\n",
        "!pip3 install -q keras\n",
        "!pip3 install gensim\n",
        "!pip3 install nltk"
      ],
      "execution_count": 19,
      "outputs": [
        {
          "output_type": "stream",
          "text": [
            "Requirement already satisfied: cython in /usr/local/lib/python3.6/dist-packages (0.29.6)\n",
            "Requirement already satisfied: tables in /usr/local/lib/python3.6/dist-packages (3.4.4)\n",
            "Requirement already satisfied: six>=1.9.0 in /usr/local/lib/python3.6/dist-packages (from tables) (1.11.0)\n",
            "Requirement already satisfied: numpy>=1.8.0 in /usr/local/lib/python3.6/dist-packages (from tables) (1.14.6)\n",
            "Requirement already satisfied: numexpr>=2.5.2 in /usr/local/lib/python3.6/dist-packages (from tables) (2.6.9)\n",
            "Requirement already satisfied: statsmodels in /usr/local/lib/python3.6/dist-packages (0.8.0)\n",
            "Requirement already satisfied: patsy in /usr/local/lib/python3.6/dist-packages (from statsmodels) (0.5.1)\n",
            "Requirement already satisfied: scipy in /usr/local/lib/python3.6/dist-packages (from statsmodels) (1.1.0)\n",
            "Requirement already satisfied: pandas in /usr/local/lib/python3.6/dist-packages (from statsmodels) (0.22.0)\n",
            "Requirement already satisfied: numpy>=1.4 in /usr/local/lib/python3.6/dist-packages (from patsy->statsmodels) (1.14.6)\n",
            "Requirement already satisfied: six in /usr/local/lib/python3.6/dist-packages (from patsy->statsmodels) (1.11.0)\n",
            "Requirement already satisfied: python-dateutil>=2 in /usr/local/lib/python3.6/dist-packages (from pandas->statsmodels) (2.5.3)\n",
            "Requirement already satisfied: pytz>=2011k in /usr/local/lib/python3.6/dist-packages (from pandas->statsmodels) (2018.9)\n",
            "Requirement already satisfied: gensim in /usr/local/lib/python3.6/dist-packages (3.6.0)\n",
            "Requirement already satisfied: numpy>=1.11.3 in /usr/local/lib/python3.6/dist-packages (from gensim) (1.14.6)\n",
            "Requirement already satisfied: scipy>=0.18.1 in /usr/local/lib/python3.6/dist-packages (from gensim) (1.1.0)\n",
            "Requirement already satisfied: six>=1.5.0 in /usr/local/lib/python3.6/dist-packages (from gensim) (1.11.0)\n",
            "Requirement already satisfied: smart-open>=1.2.1 in /usr/local/lib/python3.6/dist-packages (from gensim) (1.8.0)\n",
            "Requirement already satisfied: boto>=2.32 in /usr/local/lib/python3.6/dist-packages (from smart-open>=1.2.1->gensim) (2.49.0)\n",
            "Requirement already satisfied: bz2file in /usr/local/lib/python3.6/dist-packages (from smart-open>=1.2.1->gensim) (0.98)\n",
            "Requirement already satisfied: requests in /usr/local/lib/python3.6/dist-packages (from smart-open>=1.2.1->gensim) (2.18.4)\n",
            "Requirement already satisfied: boto3 in /usr/local/lib/python3.6/dist-packages (from smart-open>=1.2.1->gensim) (1.9.113)\n",
            "Requirement already satisfied: urllib3<1.23,>=1.21.1 in /usr/local/lib/python3.6/dist-packages (from requests->smart-open>=1.2.1->gensim) (1.22)\n",
            "Requirement already satisfied: certifi>=2017.4.17 in /usr/local/lib/python3.6/dist-packages (from requests->smart-open>=1.2.1->gensim) (2019.3.9)\n",
            "Requirement already satisfied: chardet<3.1.0,>=3.0.2 in /usr/local/lib/python3.6/dist-packages (from requests->smart-open>=1.2.1->gensim) (3.0.4)\n",
            "Requirement already satisfied: idna<2.7,>=2.5 in /usr/local/lib/python3.6/dist-packages (from requests->smart-open>=1.2.1->gensim) (2.6)\n",
            "Requirement already satisfied: jmespath<1.0.0,>=0.7.1 in /usr/local/lib/python3.6/dist-packages (from boto3->smart-open>=1.2.1->gensim) (0.9.4)\n",
            "Requirement already satisfied: s3transfer<0.3.0,>=0.2.0 in /usr/local/lib/python3.6/dist-packages (from boto3->smart-open>=1.2.1->gensim) (0.2.0)\n",
            "Requirement already satisfied: botocore<1.13.0,>=1.12.113 in /usr/local/lib/python3.6/dist-packages (from boto3->smart-open>=1.2.1->gensim) (1.12.113)\n",
            "Requirement already satisfied: python-dateutil<3.0.0,>=2.1; python_version >= \"2.7\" in /usr/local/lib/python3.6/dist-packages (from botocore<1.13.0,>=1.12.113->boto3->smart-open>=1.2.1->gensim) (2.5.3)\n",
            "Requirement already satisfied: docutils>=0.10 in /usr/local/lib/python3.6/dist-packages (from botocore<1.13.0,>=1.12.113->boto3->smart-open>=1.2.1->gensim) (0.14)\n",
            "Requirement already satisfied: nltk in /usr/local/lib/python3.6/dist-packages (3.2.5)\n",
            "Requirement already satisfied: six in /usr/local/lib/python3.6/dist-packages (from nltk) (1.11.0)\n"
          ],
          "name": "stdout"
        }
      ]
    },
    {
      "metadata": {
        "id": "fcATxs2UJ_ZL",
        "colab_type": "code",
        "colab": {}
      },
      "cell_type": "code",
      "source": [
        "import time\n",
        "import numpy as np\n",
        "import pandas as pd\n",
        "import matplotlib.pyplot as plt\n",
        "\n",
        "from sklearn.model_selection import train_test_split\n",
        "from sklearn.metrics import accuracy_score\n",
        "from sklearn import svm\n",
        "from sklearn.neural_network import MLPClassifier\n",
        "from sklearn.ensemble import RandomForestClassifier\n",
        "\n",
        "import tensorflow as tf\n",
        "\n",
        "from keras.utils import np_utils\n",
        "from keras.models import Sequential\n",
        "from keras.layers import Dense\n",
        "from keras.models import Model, load_model\n",
        "from keras.layers import Input, CuDNNLSTM, Activation, Lambda, Dense, LeakyReLU, Conv1D,GlobalAveragePooling1D\n",
        "from keras.layers import Dropout, Bidirectional,Concatenate, BatchNormalization, Flatten\n",
        "from keras import backend as K, regularizers\n",
        "from keras import optimizers, regularizers, initializers\n",
        "from keras.callbacks import EarlyStopping, TensorBoard, ModelCheckpoint\n",
        "from keras.constraints import maxnorm\n",
        "from keras.regularizers import l2"
      ],
      "execution_count": 0,
      "outputs": []
    },
    {
      "metadata": {
        "id": "2Tnofh6PLqSC",
        "colab_type": "code",
        "colab": {}
      },
      "cell_type": "code",
      "source": [
        "ratio = 6\n",
        "data_dir = 'drive/My Drive/'\n",
        "data_file = 'drive/My Drive/No_normalized_data.h5'"
      ],
      "execution_count": 0,
      "outputs": []
    },
    {
      "metadata": {
        "id": "IQPrhthsDKL9",
        "colab_type": "code",
        "colab": {}
      },
      "cell_type": "code",
      "source": [
        "df = pd.read_hdf(data_file)"
      ],
      "execution_count": 0,
      "outputs": []
    },
    {
      "metadata": {
        "id": "vTOmQMh6DQrp",
        "colab_type": "code",
        "outputId": "c104cf81-cbee-4216-e778-eabdc8909938",
        "colab": {
          "base_uri": "https://localhost:8080/",
          "height": 253
        }
      },
      "cell_type": "code",
      "source": [
        "df.head()"
      ],
      "execution_count": 23,
      "outputs": [
        {
          "output_type": "execute_result",
          "data": {
            "text/html": [
              "<div>\n",
              "<style scoped>\n",
              "    .dataframe tbody tr th:only-of-type {\n",
              "        vertical-align: middle;\n",
              "    }\n",
              "\n",
              "    .dataframe tbody tr th {\n",
              "        vertical-align: top;\n",
              "    }\n",
              "\n",
              "    .dataframe thead th {\n",
              "        text-align: right;\n",
              "    }\n",
              "</style>\n",
              "<table border=\"1\" class=\"dataframe\">\n",
              "  <thead>\n",
              "    <tr style=\"text-align: right;\">\n",
              "      <th></th>\n",
              "      <th>claim</th>\n",
              "      <th>num_rev</th>\n",
              "      <th>avg_rat</th>\n",
              "      <th>actualdis</th>\n",
              "      <th>dealdis</th>\n",
              "      <th>timeRem</th>\n",
              "      <th>num_type</th>\n",
              "      <th>recordtime</th>\n",
              "      <th>fixedEffects</th>\n",
              "      <th>day</th>\n",
              "      <th>...</th>\n",
              "      <th>day*avg_rat</th>\n",
              "      <th>dealdis*actualdis</th>\n",
              "      <th>num_type*actualdis</th>\n",
              "      <th>day*actualdis</th>\n",
              "      <th>num_type*dealdis</th>\n",
              "      <th>day*dealdis</th>\n",
              "      <th>day*num_type</th>\n",
              "      <th>deal_id</th>\n",
              "      <th>asin</th>\n",
              "      <th>y</th>\n",
              "    </tr>\n",
              "  </thead>\n",
              "  <tbody>\n",
              "    <tr>\n",
              "      <th>0</th>\n",
              "      <td>0.0</td>\n",
              "      <td>92.0</td>\n",
              "      <td>4.513926</td>\n",
              "      <td>28.387097</td>\n",
              "      <td>31.971326</td>\n",
              "      <td>25178976.0</td>\n",
              "      <td>1.0</td>\n",
              "      <td>2.0</td>\n",
              "      <td>0.0</td>\n",
              "      <td>1.0</td>\n",
              "      <td>...</td>\n",
              "      <td>4.513926</td>\n",
              "      <td>907.57313</td>\n",
              "      <td>28.387097</td>\n",
              "      <td>28.387097</td>\n",
              "      <td>31.971326</td>\n",
              "      <td>31.971326</td>\n",
              "      <td>1.0</td>\n",
              "      <td>0013c9a8</td>\n",
              "      <td>B06XKFY3FR</td>\n",
              "      <td>0</td>\n",
              "    </tr>\n",
              "    <tr>\n",
              "      <th>1</th>\n",
              "      <td>0.0</td>\n",
              "      <td>92.0</td>\n",
              "      <td>4.513926</td>\n",
              "      <td>28.387097</td>\n",
              "      <td>31.971326</td>\n",
              "      <td>21573625.0</td>\n",
              "      <td>1.0</td>\n",
              "      <td>2.0</td>\n",
              "      <td>0.0</td>\n",
              "      <td>1.0</td>\n",
              "      <td>...</td>\n",
              "      <td>4.513926</td>\n",
              "      <td>907.57313</td>\n",
              "      <td>28.387097</td>\n",
              "      <td>28.387097</td>\n",
              "      <td>31.971326</td>\n",
              "      <td>31.971326</td>\n",
              "      <td>1.0</td>\n",
              "      <td>0013c9a8</td>\n",
              "      <td>B06XKFY3FR</td>\n",
              "      <td>1</td>\n",
              "    </tr>\n",
              "    <tr>\n",
              "      <th>2</th>\n",
              "      <td>1.0</td>\n",
              "      <td>92.0</td>\n",
              "      <td>4.513926</td>\n",
              "      <td>28.387097</td>\n",
              "      <td>31.971326</td>\n",
              "      <td>17950233.0</td>\n",
              "      <td>1.0</td>\n",
              "      <td>2.0</td>\n",
              "      <td>0.0</td>\n",
              "      <td>1.0</td>\n",
              "      <td>...</td>\n",
              "      <td>4.513926</td>\n",
              "      <td>907.57313</td>\n",
              "      <td>28.387097</td>\n",
              "      <td>28.387097</td>\n",
              "      <td>31.971326</td>\n",
              "      <td>31.971326</td>\n",
              "      <td>1.0</td>\n",
              "      <td>0013c9a8</td>\n",
              "      <td>B06XKFY3FR</td>\n",
              "      <td>1</td>\n",
              "    </tr>\n",
              "    <tr>\n",
              "      <th>3</th>\n",
              "      <td>2.0</td>\n",
              "      <td>92.0</td>\n",
              "      <td>4.513926</td>\n",
              "      <td>28.387097</td>\n",
              "      <td>31.971326</td>\n",
              "      <td>14338517.0</td>\n",
              "      <td>1.0</td>\n",
              "      <td>3.0</td>\n",
              "      <td>0.0</td>\n",
              "      <td>1.0</td>\n",
              "      <td>...</td>\n",
              "      <td>4.513926</td>\n",
              "      <td>907.57313</td>\n",
              "      <td>28.387097</td>\n",
              "      <td>28.387097</td>\n",
              "      <td>31.971326</td>\n",
              "      <td>31.971326</td>\n",
              "      <td>1.0</td>\n",
              "      <td>0013c9a8</td>\n",
              "      <td>B06XKFY3FR</td>\n",
              "      <td>1</td>\n",
              "    </tr>\n",
              "    <tr>\n",
              "      <th>4</th>\n",
              "      <td>3.0</td>\n",
              "      <td>92.0</td>\n",
              "      <td>4.513926</td>\n",
              "      <td>28.387097</td>\n",
              "      <td>31.971326</td>\n",
              "      <td>10708112.0</td>\n",
              "      <td>1.0</td>\n",
              "      <td>3.0</td>\n",
              "      <td>0.0</td>\n",
              "      <td>1.0</td>\n",
              "      <td>...</td>\n",
              "      <td>4.513926</td>\n",
              "      <td>907.57313</td>\n",
              "      <td>28.387097</td>\n",
              "      <td>28.387097</td>\n",
              "      <td>31.971326</td>\n",
              "      <td>31.971326</td>\n",
              "      <td>1.0</td>\n",
              "      <td>0013c9a8</td>\n",
              "      <td>B06XKFY3FR</td>\n",
              "      <td>1</td>\n",
              "    </tr>\n",
              "  </tbody>\n",
              "</table>\n",
              "<p>5 rows × 34 columns</p>\n",
              "</div>"
            ],
            "text/plain": [
              "   claim  num_rev   avg_rat  actualdis    dealdis     timeRem  num_type  \\\n",
              "0    0.0     92.0  4.513926  28.387097  31.971326  25178976.0       1.0   \n",
              "1    0.0     92.0  4.513926  28.387097  31.971326  21573625.0       1.0   \n",
              "2    1.0     92.0  4.513926  28.387097  31.971326  17950233.0       1.0   \n",
              "3    2.0     92.0  4.513926  28.387097  31.971326  14338517.0       1.0   \n",
              "4    3.0     92.0  4.513926  28.387097  31.971326  10708112.0       1.0   \n",
              "\n",
              "   recordtime  fixedEffects  day ...  day*avg_rat  dealdis*actualdis  \\\n",
              "0         2.0           0.0  1.0 ...     4.513926          907.57313   \n",
              "1         2.0           0.0  1.0 ...     4.513926          907.57313   \n",
              "2         2.0           0.0  1.0 ...     4.513926          907.57313   \n",
              "3         3.0           0.0  1.0 ...     4.513926          907.57313   \n",
              "4         3.0           0.0  1.0 ...     4.513926          907.57313   \n",
              "\n",
              "   num_type*actualdis  day*actualdis  num_type*dealdis  day*dealdis  \\\n",
              "0           28.387097      28.387097         31.971326    31.971326   \n",
              "1           28.387097      28.387097         31.971326    31.971326   \n",
              "2           28.387097      28.387097         31.971326    31.971326   \n",
              "3           28.387097      28.387097         31.971326    31.971326   \n",
              "4           28.387097      28.387097         31.971326    31.971326   \n",
              "\n",
              "   day*num_type   deal_id        asin  y  \n",
              "0           1.0  0013c9a8  B06XKFY3FR  0  \n",
              "1           1.0  0013c9a8  B06XKFY3FR  1  \n",
              "2           1.0  0013c9a8  B06XKFY3FR  1  \n",
              "3           1.0  0013c9a8  B06XKFY3FR  1  \n",
              "4           1.0  0013c9a8  B06XKFY3FR  1  \n",
              "\n",
              "[5 rows x 34 columns]"
            ]
          },
          "metadata": {
            "tags": []
          },
          "execution_count": 23
        }
      ]
    },
    {
      "metadata": {
        "id": "mY_v1LLKDSnM",
        "colab_type": "code",
        "outputId": "e2126b05-69bc-44df-ca47-354f5500659d",
        "colab": {
          "base_uri": "https://localhost:8080/",
          "height": 34
        }
      },
      "cell_type": "code",
      "source": [
        "df.columns\n",
        "df.shape"
      ],
      "execution_count": 24,
      "outputs": [
        {
          "output_type": "execute_result",
          "data": {
            "text/plain": [
              "(367606, 34)"
            ]
          },
          "metadata": {
            "tags": []
          },
          "execution_count": 24
        }
      ]
    },
    {
      "metadata": {
        "id": "rk_6rZU3EeAX",
        "colab_type": "code",
        "colab": {}
      },
      "cell_type": "code",
      "source": [
        "# f1 = 'y ~ claim + num_rev + avg_rat + actualdis + ' + \\\n",
        "#      'dealdis + timeRem + num_type + C(recordtime) + C(asin) - 1'\n",
        "\n",
        "# f2 = 'y ~ claim + num_rev + avg_rat + actualdis + ' + \\\n",
        "#      'dealdis + timeRem + num_type + C(recordtime) + C(asin)'\n",
        "\n",
        "# f3 = 'y ~ claim + num_rev + avg_rat + actualdis + ' + \\\n",
        "#      'dealdis + timeRem + num_type + C(recordtime)'\n",
        "\n",
        "# f4 = 'y ~ claim*timeRem + claim*dealdis + timeRem*dealdis + timeRem*avg_rat + claim*avg_rat + ' + \\\n",
        "#      'claim + num_rev + avg_rat + actualdis + ' + \\\n",
        "#      'dealdis + timeRem + num_type + C(recordtime) + C(asin)'\n",
        "\n",
        "# f_list = [f1, f2, f3, f4]\n",
        "# print(f_list)"
      ],
      "execution_count": 0,
      "outputs": []
    },
    {
      "metadata": {
        "id": "9xodjYNw68e-",
        "colab_type": "code",
        "colab": {}
      },
      "cell_type": "code",
      "source": [
        "def x_value(df, c0_cutoff, c1_cutoff, c2_cutoff, c3_cutoff):\n",
        "\n",
        "\tx = [[]]\n",
        "\ty = []\n",
        "\tx = df.iloc[:, [1, 2, 3, 4, 5, 6, 9\\\n",
        "\t \t# 10, 11, 12, 13, 14, 15, 16, 17, 18, 19, 20, 21, 22, 23, 24, 25, 26, 27, 28, 29, 30 \\\n",
        "\t \t]].values\n",
        "\ty = df.iloc[:, [0]].values\n",
        "\n",
        "\ty[y <= c0_cutoff] = 0\n",
        "\ty[y > c3_cutoff] = 4\n",
        "\ty[y > c2_cutoff] = 3\n",
        "\ty[y > c1_cutoff] = 2\n",
        "\ty[y > c0_cutoff] = 1\n",
        "\t\n",
        "\treturn x, y"
      ],
      "execution_count": 0,
      "outputs": []
    },
    {
      "metadata": {
        "id": "gYEOrR3a7LBQ",
        "colab_type": "code",
        "colab": {}
      },
      "cell_type": "code",
      "source": [
        "def equalSplit(x, y, ratio):\n",
        "\n",
        "\tlenY1 = np.count_nonzero(y == 1)\n",
        "\tlenY2 = np.count_nonzero(y == 2)\n",
        "\tlenY3 = np.count_nonzero(y == 3)\n",
        "\tlenY4 = np.count_nonzero(y == 4)\n",
        "\tlenY0 = len(y) - lenY1 - lenY2 - lenY3 - lenY4\n",
        "\n",
        "\ty0 = y[np.where(y == 0), :][0]\n",
        "\tx0 = x[np.where(y == 0), :][0]\n",
        "\tindex = np.random.choice(y0.shape[0], min(ratio*lenY4, lenY0), replace = False)\n",
        "\tx0 = x0[index]\n",
        "\ty0 = y0[index]\n",
        "\n",
        "\ty1 = y[np.where(y == 1), :][0]\n",
        "\tx1 = x[np.where(y == 1), :][0]\n",
        "\tindex = np.random.choice(y1.shape[0], min(ratio*lenY4, lenY1), replace = False)\n",
        "\tx1 = x1[index]\n",
        "\ty1 = y1[index]\n",
        "\t\n",
        "\ty2 = y[np.where(y == 2), :][0]\n",
        "\tx2 = x[np.where(y == 2), :][0]\n",
        "\tindex = np.random.choice(y2.shape[0], min(ratio*lenY4, lenY2), replace = False)\n",
        "\tx2 = x2[index]\n",
        "\ty2 = y2[index]\n",
        "\t\n",
        "\ty3 = y[np.where(y == 3), :][0]\n",
        "\tx3 = x[np.where(y == 3), :][0]\n",
        "\tindex = np.random.choice(y3.shape[0], min(ratio*lenY4, lenY3), replace = False)\n",
        "\tx3 = x3[index]\n",
        "\ty3 = y3[index]\n",
        "\n",
        "\ty4 = y[np.where(y == 4), :][0]\n",
        "\tx4 = x[np.where(y == 4), :][0]\n",
        "\tindex = np.random.choice(y4.shape[0], min(ratio*lenY4, lenY4), replace = False)\n",
        "\tx4 = x4[index]\n",
        "\ty4 = y4[index]\n",
        "\n",
        "\tx = np.vstack((x0, x1))\n",
        "\tx = np.vstack((x, x2))\n",
        "\tx = np.vstack((x, x3))\n",
        "\tx = np.vstack((x, x4))\n",
        "\ty = np.vstack((y0, y1))\n",
        "\ty = np.vstack((y, y2))\n",
        "\ty = np.vstack((y, y3))\n",
        "\ty = np.vstack((y, y4))\n",
        "\n",
        "\treturn x, y"
      ],
      "execution_count": 0,
      "outputs": []
    },
    {
      "metadata": {
        "id": "LVdn3H837N83",
        "colab_type": "code",
        "colab": {}
      },
      "cell_type": "code",
      "source": [
        "def StandardModel(numFeatures, Loss, optimizer):\n",
        "\n",
        "\tmodel = Sequential()\n",
        "\tmodel.add(Dense(12, input_dim = numFeatures, activation = 'relu'))\n",
        "\tmodel.add(Dense(8, activation = 'relu'))\n",
        "\tmodel.add(Dense(5, activation = 'softmax'))\n",
        "\tmodel.compile(loss = Loss, optimizer = optimizer, metrics = ['accuracy'])\n",
        "\t# model.fit(X, Y, epochs=150, batch_size=10,  verbose=2)\n",
        "\t# predictions = model.predict(X)"
      ],
      "execution_count": 0,
      "outputs": []
    },
    {
      "metadata": {
        "id": "fjaMPHAl7Qzr",
        "colab_type": "code",
        "colab": {}
      },
      "cell_type": "code",
      "source": [
        "def define_model():\n",
        "\n",
        "\tinput = Input(shape = INPUT_SHAPE_1, dtype = 'float32', name = 'features')\n",
        "\n",
        "\tx = Dense(75, kernel_regularizer = regularizers.l2(1e-3) ,name = 'Fully_Connected_Layer_1')(input)\n",
        "\tx = BatchNormalization()(x)\n",
        "\tx = LeakyReLU(alpha=0.01)(x)\n",
        "\tx = Dropout(DROPOUT,  name = 'Dropout_Regularization_1')(x)\n",
        "\n",
        "\tx = Dense(50, kernel_regularizer = regularizers.l2(1e-3), name = 'Fully_Connected_Layer_2')(x)\n",
        "\tx = BatchNormalization()(x)\n",
        "\tx = LeakyReLU(alpha=0.01)(x)\n",
        "\tx = Dropout(DROPOUT,  name = 'Dropout_Regularization_2')(x)\n",
        "\n",
        "\tx = Dense(30, kernel_regularizer = regularizers.l2(1e-3), name = 'Fully_Connected_Layer_3')(x)\n",
        "\tx = BatchNormalization()(x)\n",
        "\tx = LeakyReLU(alpha=0.01)(x)\n",
        "\tx = Dropout(DROPOUT,  name = 'Dropout_Regularization_3')(x)\n",
        "\n",
        "\toutput = Dense(5, activation = 'softmax', name = 'Fully_Connected_Layer_4')(x)\n",
        "\n",
        "\tmodel = Model(inputs = [input], outputs = [output], name = 'my_model')\n",
        "\n",
        "\treturn model"
      ],
      "execution_count": 0,
      "outputs": []
    },
    {
      "metadata": {
        "id": "-yxb8otF7T3W",
        "colab_type": "code",
        "colab": {}
      },
      "cell_type": "code",
      "source": [
        "def run_model(X_train, X_val, Y_train, Y_val, model):\n",
        "\n",
        "\tprint(model.summary())\n",
        "\tmodel.compile(loss='categorical_crossentropy', optimizer = optimizers.Adam(), metrics=['accuracy'])\n",
        "\tearlystop = EarlyStopping(monitor = 'val_loss', patience = PAT)\n",
        "\tcheck_pt = ModelCheckpoint(data_dir + 'model_.h5', save_best_only=True)\n",
        "\tcallbacks_list = [earlystop, check_pt]\n",
        "\n",
        "\ttrained_model = model.fit(X_train, [Y_train], epochs = EPOCHS, batch_size = BATCH_SIZE, shuffle = True, \\\n",
        "\t\t\t\t\t\t\t\tvalidation_data = [X_val, [Y_val]], callbacks = callbacks_list)\n",
        "\n",
        "\treturn trained_model, model"
      ],
      "execution_count": 0,
      "outputs": []
    },
    {
      "metadata": {
        "id": "k8u_HJFb7Wy3",
        "colab_type": "code",
        "colab": {}
      },
      "cell_type": "code",
      "source": [
        "def model_history(trained_model):\n",
        "\n",
        "\tfig, axs = plt.subplots(1,2,figsize=(15,5))\n",
        "\n",
        "\taxs[0].plot(trained_model.history['loss'])\n",
        "\taxs[0].plot(trained_model.history['val_loss'])\n",
        "\taxs[0].set_title('Model Loss')\n",
        "\taxs[0].set_ylabel('Loss')\n",
        "\taxs[0].set_xlabel('Epoch')\n",
        "\taxs[0].legend(['Train', 'Validation'], loc='upper right')\n",
        "\n",
        "\taxs[1].plot(trained_model.history['acc'])\n",
        "\taxs[1].plot(trained_model.history['val_acc'])\n",
        "\taxs[1].set_title('Model Accuracy')\n",
        "\taxs[1].set_ylabel('Accuracy')\n",
        "\taxs[1].set_xlabel('Epoch')\n",
        "\taxs[1].legend(['Train', 'Validation'], loc='upper right')\n",
        "\tplt.show()"
      ],
      "execution_count": 0,
      "outputs": []
    },
    {
      "metadata": {
        "id": "wdvh04T_7ZeT",
        "colab_type": "code",
        "outputId": "27ce32f6-d940-4b98-9c6a-65f356c6ca1b",
        "colab": {
          "base_uri": "https://localhost:8080/",
          "height": 1539
        }
      },
      "cell_type": "code",
      "source": [
        "\tx, y = x_value(df, 20, 40, 60, 80)\n",
        "\tprint('x and y created')\n",
        "\tx, y = equalSplit(x, y, ratio)\n",
        "\tprint('x and y equally splitted')\n",
        "\n",
        "\ty = y.astype(int)\n",
        "\ty = np.squeeze(np.eye(5)[y.reshape(-1)])\n",
        "\tx_train, x_test, y_train, y_test = train_test_split(x, y, test_size=0.4, random_state=42)\n",
        "\tx_val, x_test, y_val, y_test = train_test_split(x_test, y_test, test_size=0.2, random_state=42)\n",
        "\tprint('Train, Validation and test split of x and y\\n')\n",
        "\n",
        "\t# print('Training started')\n",
        "\t# clf = MLPClassifier()\n",
        "\t# clf.fit(x_train, y_train)\n",
        "\n",
        "\t# print('Testing Started')\n",
        "\t# y_pred = clf.predict(x_train)\n",
        "\t# print('Train Accuracy - ', accuracy_score(y_train, y_pred))\n",
        "\t# y_pred = clf.predict(x_test)\n",
        "\t# print('Test Accuracy - ', accuracy_score(y_test, y_pred))\n",
        "\t# print(len(x_train), len(x_test))\n",
        "\n",
        "\tINPUT_SHAPE_1 = (7,)\n",
        "\tEPOCHS = 50\n",
        "\tBATCH_SIZE = 1024\n",
        "\tDROPOUT = 0.15\n",
        "\tPAT = 10\n",
        "\n",
        "\tK.clear_session()\n",
        "\tmodel = define_model()\n",
        "\ttrained_model, model = run_model(x_train, x_val, y_train, y_val, model)\n",
        "\tmodel_history(trained_model)\n",
        "\ty_pred = (model.predict(x_train)).argmax(axis=-1)\n",
        "\ty_train = [np.where(r==1)[0][0] for r in y_train]\n",
        "\tprint(accuracy_score(y_train, y_pred))"
      ],
      "execution_count": 39,
      "outputs": [
        {
          "output_type": "stream",
          "text": [
            "x and y created\n",
            "x and y equally splitted\n",
            "Train, Validation and test split of x and y\n",
            "\n",
            "_________________________________________________________________\n",
            "Layer (type)                 Output Shape              Param #   \n",
            "=================================================================\n",
            "features (InputLayer)        (None, 7)                 0         \n",
            "_________________________________________________________________\n",
            "Fully_Connected_Layer_1 (Den (None, 75)                600       \n",
            "_________________________________________________________________\n",
            "batch_normalization_1 (Batch (None, 75)                300       \n",
            "_________________________________________________________________\n",
            "leaky_re_lu_1 (LeakyReLU)    (None, 75)                0         \n",
            "_________________________________________________________________\n",
            "Dropout_Regularization_1 (Dr (None, 75)                0         \n",
            "_________________________________________________________________\n",
            "Fully_Connected_Layer_2 (Den (None, 50)                3800      \n",
            "_________________________________________________________________\n",
            "batch_normalization_2 (Batch (None, 50)                200       \n",
            "_________________________________________________________________\n",
            "leaky_re_lu_2 (LeakyReLU)    (None, 50)                0         \n",
            "_________________________________________________________________\n",
            "Dropout_Regularization_2 (Dr (None, 50)                0         \n",
            "_________________________________________________________________\n",
            "Fully_Connected_Layer_3 (Den (None, 30)                1530      \n",
            "_________________________________________________________________\n",
            "batch_normalization_3 (Batch (None, 30)                120       \n",
            "_________________________________________________________________\n",
            "leaky_re_lu_3 (LeakyReLU)    (None, 30)                0         \n",
            "_________________________________________________________________\n",
            "Dropout_Regularization_3 (Dr (None, 30)                0         \n",
            "_________________________________________________________________\n",
            "Fully_Connected_Layer_4 (Den (None, 5)                 155       \n",
            "=================================================================\n",
            "Total params: 6,705\n",
            "Trainable params: 6,395\n",
            "Non-trainable params: 310\n",
            "_________________________________________________________________\n",
            "None\n",
            "Train on 22949 samples, validate on 12240 samples\n",
            "Epoch 1/50\n",
            "22949/22949 [==============================] - 1s 57us/step - loss: 1.6920 - acc: 0.3104 - val_loss: 1.5481 - val_acc: 0.3638\n",
            "Epoch 2/50\n",
            "22949/22949 [==============================] - 0s 14us/step - loss: 1.5363 - acc: 0.3538 - val_loss: 1.4790 - val_acc: 0.3636\n",
            "Epoch 3/50\n",
            "22949/22949 [==============================] - 0s 14us/step - loss: 1.5035 - acc: 0.3592 - val_loss: 1.4708 - val_acc: 0.3595\n",
            "Epoch 4/50\n",
            "22949/22949 [==============================] - 0s 13us/step - loss: 1.4842 - acc: 0.3581 - val_loss: 1.4636 - val_acc: 0.3460\n",
            "Epoch 5/50\n",
            "22949/22949 [==============================] - 0s 14us/step - loss: 1.4688 - acc: 0.3599 - val_loss: 1.4702 - val_acc: 0.3300\n",
            "Epoch 6/50\n",
            "22949/22949 [==============================] - 0s 14us/step - loss: 1.4585 - acc: 0.3636 - val_loss: 1.4820 - val_acc: 0.3310\n",
            "Epoch 7/50\n",
            "22949/22949 [==============================] - 0s 14us/step - loss: 1.4584 - acc: 0.3574 - val_loss: 1.4838 - val_acc: 0.3413\n",
            "Epoch 8/50\n",
            "22949/22949 [==============================] - 0s 14us/step - loss: 1.4453 - acc: 0.3651 - val_loss: 1.5027 - val_acc: 0.3405\n",
            "Epoch 9/50\n",
            "22949/22949 [==============================] - 0s 13us/step - loss: 1.4434 - acc: 0.3601 - val_loss: 1.5024 - val_acc: 0.3377\n",
            "Epoch 10/50\n",
            "22949/22949 [==============================] - 0s 13us/step - loss: 1.4318 - acc: 0.3652 - val_loss: 1.4985 - val_acc: 0.3368\n",
            "Epoch 11/50\n",
            "22949/22949 [==============================] - 0s 13us/step - loss: 1.4266 - acc: 0.3672 - val_loss: 1.5043 - val_acc: 0.3415\n",
            "Epoch 12/50\n",
            "22949/22949 [==============================] - 0s 14us/step - loss: 1.4230 - acc: 0.3684 - val_loss: 1.5002 - val_acc: 0.3510\n",
            "Epoch 13/50\n",
            "22949/22949 [==============================] - 0s 13us/step - loss: 1.4194 - acc: 0.3669 - val_loss: 1.4973 - val_acc: 0.3496\n",
            "Epoch 14/50\n",
            "22949/22949 [==============================] - 0s 14us/step - loss: 1.4141 - acc: 0.3688 - val_loss: 1.4901 - val_acc: 0.3558\n"
          ],
          "name": "stdout"
        },
        {
          "output_type": "display_data",
          "data": {
            "image/png": "[encoded data removed]",
            "text/plain": [
              "<Figure size 1080x360 with 2 Axes>"
            ]
          },
          "metadata": {
            "tags": []
          }
        },
        {
          "output_type": "stream",
          "text": [
            "0.36306592879864047\n"
          ],
          "name": "stdout"
        }
      ]
    },
    {
      "metadata": {
        "id": "jLiMEFLzDgjr",
        "colab_type": "code",
        "colab": {}
      },
      "cell_type": "code",
      "source": [
        "# i = 1\n",
        "\n",
        "# for f in f_list:\n",
        "  \n",
        "#   FE_ols = sm.ols(formula = f, data=df.loc[:50000]).fit()\n",
        "  \n",
        "#   with open(data_dir + str(i) + '_asin.txt' , 'w') as myfile:\n",
        "#     print(FE_ols.summary())\n",
        "#     myfile.write(str(FE_ols.summary()))\n",
        "    \n",
        "#   print(\"%d Done\" % i)\n",
        "#   i += 1"
      ],
      "execution_count": 0,
      "outputs": []
    },
    {
      "metadata": {
        "id": "OxEPjfCyLgpB",
        "colab_type": "code",
        "colab": {}
      },
      "cell_type": "code",
      "source": [
        ""
      ],
      "execution_count": 0,
      "outputs": []
    }
  ]
}