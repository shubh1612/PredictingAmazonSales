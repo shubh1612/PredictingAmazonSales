{
  "nbformat": 4,
  "nbformat_minor": 0,
  "metadata": {
    "colab": {
      "name": "Predict.ipynb",
      "version": "0.3.2",
      "provenance": [],
      "collapsed_sections": []
    },
    "kernelspec": {
      "name": "python3",
      "display_name": "Python 3"
    },
    "accelerator": "GPU"
  },
  "cells": [
    {
      "metadata": {
        "id": "LeOakWfVdT67",
        "colab_type": "code",
        "outputId": "687d29cb-4b2a-4df1-9855-23e6147137ef",
        "colab": {
          "base_uri": "https://localhost:8080/",
          "height": 34
        }
      },
      "cell_type": "code",
      "source": [
        "from google.colab import drive\n",
        "drive.mount('/content/drive')"
      ],
      "execution_count": 71,
      "outputs": [
        {
          "output_type": "stream",
          "text": [
            "Drive already mounted at /content/drive; to attempt to forcibly remount, call drive.mount(\"/content/drive\", force_remount=True).\n"
          ],
          "name": "stdout"
        }
      ]
    },
    {
      "metadata": {
        "id": "8XrNwDZjK4fn",
        "colab_type": "code",
        "outputId": "abc90be1-b83a-482f-eee9-f3f5ebb528c3",
        "colab": {
          "base_uri": "https://localhost:8080/",
          "height": 598
        }
      },
      "cell_type": "code",
      "source": [
        "!pip3 install cython\n",
        "!pip3 install tables\n",
        "!pip3 install statsmodels\n",
        "!pip3 install -q keras\n",
        "!pip3 install gensim\n",
        "!pip3 install nltk"
      ],
      "execution_count": 72,
      "outputs": [
        {
          "output_type": "stream",
          "text": [
            "Requirement already satisfied: cython in /usr/local/lib/python3.6/dist-packages (0.29.6)\n",
            "Requirement already satisfied: tables in /usr/local/lib/python3.6/dist-packages (3.4.4)\n",
            "Requirement already satisfied: six>=1.9.0 in /usr/local/lib/python3.6/dist-packages (from tables) (1.11.0)\n",
            "Requirement already satisfied: numpy>=1.8.0 in /usr/local/lib/python3.6/dist-packages (from tables) (1.14.6)\n",
            "Requirement already satisfied: numexpr>=2.5.2 in /usr/local/lib/python3.6/dist-packages (from tables) (2.6.9)\n",
            "Requirement already satisfied: statsmodels in /usr/local/lib/python3.6/dist-packages (0.8.0)\n",
            "Requirement already satisfied: pandas in /usr/local/lib/python3.6/dist-packages (from statsmodels) (0.22.0)\n",
            "Requirement already satisfied: scipy in /usr/local/lib/python3.6/dist-packages (from statsmodels) (1.1.0)\n",
            "Requirement already satisfied: patsy in /usr/local/lib/python3.6/dist-packages (from statsmodels) (0.5.1)\n",
            "Requirement already satisfied: python-dateutil>=2 in /usr/local/lib/python3.6/dist-packages (from pandas->statsmodels) (2.5.3)\n",
            "Requirement already satisfied: pytz>=2011k in /usr/local/lib/python3.6/dist-packages (from pandas->statsmodels) (2018.9)\n",
            "Requirement already satisfied: numpy>=1.9.0 in /usr/local/lib/python3.6/dist-packages (from pandas->statsmodels) (1.14.6)\n",
            "Requirement already satisfied: six in /usr/local/lib/python3.6/dist-packages (from patsy->statsmodels) (1.11.0)\n",
            "Requirement already satisfied: gensim in /usr/local/lib/python3.6/dist-packages (3.6.0)\n",
            "Requirement already satisfied: smart-open>=1.2.1 in /usr/local/lib/python3.6/dist-packages (from gensim) (1.8.0)\n",
            "Requirement already satisfied: numpy>=1.11.3 in /usr/local/lib/python3.6/dist-packages (from gensim) (1.14.6)\n",
            "Requirement already satisfied: six>=1.5.0 in /usr/local/lib/python3.6/dist-packages (from gensim) (1.11.0)\n",
            "Requirement already satisfied: scipy>=0.18.1 in /usr/local/lib/python3.6/dist-packages (from gensim) (1.1.0)\n",
            "Requirement already satisfied: boto>=2.32 in /usr/local/lib/python3.6/dist-packages (from smart-open>=1.2.1->gensim) (2.49.0)\n",
            "Requirement already satisfied: bz2file in /usr/local/lib/python3.6/dist-packages (from smart-open>=1.2.1->gensim) (0.98)\n",
            "Requirement already satisfied: requests in /usr/local/lib/python3.6/dist-packages (from smart-open>=1.2.1->gensim) (2.18.4)\n",
            "Requirement already satisfied: boto3 in /usr/local/lib/python3.6/dist-packages (from smart-open>=1.2.1->gensim) (1.9.128)\n",
            "Requirement already satisfied: chardet<3.1.0,>=3.0.2 in /usr/local/lib/python3.6/dist-packages (from requests->smart-open>=1.2.1->gensim) (3.0.4)\n",
            "Requirement already satisfied: urllib3<1.23,>=1.21.1 in /usr/local/lib/python3.6/dist-packages (from requests->smart-open>=1.2.1->gensim) (1.22)\n",
            "Requirement already satisfied: certifi>=2017.4.17 in /usr/local/lib/python3.6/dist-packages (from requests->smart-open>=1.2.1->gensim) (2019.3.9)\n",
            "Requirement already satisfied: idna<2.7,>=2.5 in /usr/local/lib/python3.6/dist-packages (from requests->smart-open>=1.2.1->gensim) (2.6)\n",
            "Requirement already satisfied: jmespath<1.0.0,>=0.7.1 in /usr/local/lib/python3.6/dist-packages (from boto3->smart-open>=1.2.1->gensim) (0.9.4)\n",
            "Requirement already satisfied: s3transfer<0.3.0,>=0.2.0 in /usr/local/lib/python3.6/dist-packages (from boto3->smart-open>=1.2.1->gensim) (0.2.0)\n",
            "Requirement already satisfied: botocore<1.13.0,>=1.12.128 in /usr/local/lib/python3.6/dist-packages (from boto3->smart-open>=1.2.1->gensim) (1.12.128)\n",
            "Requirement already satisfied: docutils>=0.10 in /usr/local/lib/python3.6/dist-packages (from botocore<1.13.0,>=1.12.128->boto3->smart-open>=1.2.1->gensim) (0.14)\n",
            "Requirement already satisfied: python-dateutil<3.0.0,>=2.1; python_version >= \"2.7\" in /usr/local/lib/python3.6/dist-packages (from botocore<1.13.0,>=1.12.128->boto3->smart-open>=1.2.1->gensim) (2.5.3)\n",
            "Requirement already satisfied: nltk in /usr/local/lib/python3.6/dist-packages (3.2.5)\n",
            "Requirement already satisfied: six in /usr/local/lib/python3.6/dist-packages (from nltk) (1.11.0)\n"
          ],
          "name": "stdout"
        }
      ]
    },
    {
      "metadata": {
        "id": "fcATxs2UJ_ZL",
        "colab_type": "code",
        "colab": {}
      },
      "cell_type": "code",
      "source": [
        "import time\n",
        "import numpy as np\n",
        "import pandas as pd\n",
        "import matplotlib.pyplot as plt\n",
        "\n",
        "from sklearn.model_selection import train_test_split\n",
        "from sklearn.metrics import accuracy_score\n",
        "from sklearn import svm\n",
        "from sklearn.neural_network import MLPClassifier\n",
        "from sklearn.ensemble import RandomForestClassifier\n",
        "\n",
        "import tensorflow as tf\n",
        "\n",
        "from keras.utils import np_utils\n",
        "from keras.models import Sequential\n",
        "from keras.layers import Dense\n",
        "from keras.models import Model, load_model\n",
        "from keras.layers import Input, CuDNNLSTM, Activation, Lambda, Dense, LeakyReLU, Conv1D,GlobalAveragePooling1D\n",
        "from keras.layers import Dropout, Bidirectional,Concatenate, BatchNormalization, Flatten\n",
        "from keras import backend as K, regularizers\n",
        "from keras import optimizers, regularizers, initializers\n",
        "from keras.callbacks import EarlyStopping, TensorBoard, ModelCheckpoint\n",
        "from keras.constraints import maxnorm\n",
        "from keras.regularizers import l2"
      ],
      "execution_count": 0,
      "outputs": []
    },
    {
      "metadata": {
        "id": "2Tnofh6PLqSC",
        "colab_type": "code",
        "colab": {}
      },
      "cell_type": "code",
      "source": [
        "ratio = 6\n",
        "data_dir = 'drive/My Drive/'\n",
        "data_file = 'drive/My Drive/No_normalized_data.h5'\n",
        "\n",
        "num_prev_values = 10\n",
        "start = [10, 30]\n",
        "# data_dir = 'drive/My Drive/btp/sem2_start/Prediction/'\n",
        "# data_file = 'drive/My Drive/btp/sem2_start/Prediction/No_normalized_data.h5'"
      ],
      "execution_count": 0,
      "outputs": []
    },
    {
      "metadata": {
        "id": "IQPrhthsDKL9",
        "colab_type": "code",
        "colab": {}
      },
      "cell_type": "code",
      "source": [
        "df = pd.read_hdf(data_file)"
      ],
      "execution_count": 0,
      "outputs": []
    },
    {
      "metadata": {
        "id": "vTOmQMh6DQrp",
        "colab_type": "code",
        "outputId": "7de4047d-279b-4316-987d-11ff4950fb00",
        "colab": {
          "base_uri": "https://localhost:8080/",
          "height": 253
        }
      },
      "cell_type": "code",
      "source": [
        "df.head()"
      ],
      "execution_count": 76,
      "outputs": [
        {
          "output_type": "execute_result",
          "data": {
            "text/html": [
              "<div>\n",
              "<style scoped>\n",
              "    .dataframe tbody tr th:only-of-type {\n",
              "        vertical-align: middle;\n",
              "    }\n",
              "\n",
              "    .dataframe tbody tr th {\n",
              "        vertical-align: top;\n",
              "    }\n",
              "\n",
              "    .dataframe thead th {\n",
              "        text-align: right;\n",
              "    }\n",
              "</style>\n",
              "<table border=\"1\" class=\"dataframe\">\n",
              "  <thead>\n",
              "    <tr style=\"text-align: right;\">\n",
              "      <th></th>\n",
              "      <th>claim</th>\n",
              "      <th>num_rev</th>\n",
              "      <th>avg_rat</th>\n",
              "      <th>actualdis</th>\n",
              "      <th>dealdis</th>\n",
              "      <th>timeRem</th>\n",
              "      <th>num_type</th>\n",
              "      <th>recordtime</th>\n",
              "      <th>fixedEffects</th>\n",
              "      <th>day</th>\n",
              "      <th>...</th>\n",
              "      <th>day*avg_rat</th>\n",
              "      <th>dealdis*actualdis</th>\n",
              "      <th>num_type*actualdis</th>\n",
              "      <th>day*actualdis</th>\n",
              "      <th>num_type*dealdis</th>\n",
              "      <th>day*dealdis</th>\n",
              "      <th>day*num_type</th>\n",
              "      <th>deal_id</th>\n",
              "      <th>asin</th>\n",
              "      <th>y</th>\n",
              "    </tr>\n",
              "  </thead>\n",
              "  <tbody>\n",
              "    <tr>\n",
              "      <th>0</th>\n",
              "      <td>0.0</td>\n",
              "      <td>92.0</td>\n",
              "      <td>4.513926</td>\n",
              "      <td>28.387097</td>\n",
              "      <td>31.971326</td>\n",
              "      <td>25178976.0</td>\n",
              "      <td>1.0</td>\n",
              "      <td>2.0</td>\n",
              "      <td>0.0</td>\n",
              "      <td>1.0</td>\n",
              "      <td>...</td>\n",
              "      <td>4.513926</td>\n",
              "      <td>907.57313</td>\n",
              "      <td>28.387097</td>\n",
              "      <td>28.387097</td>\n",
              "      <td>31.971326</td>\n",
              "      <td>31.971326</td>\n",
              "      <td>1.0</td>\n",
              "      <td>0013c9a8</td>\n",
              "      <td>B06XKFY3FR</td>\n",
              "      <td>0</td>\n",
              "    </tr>\n",
              "    <tr>\n",
              "      <th>1</th>\n",
              "      <td>0.0</td>\n",
              "      <td>92.0</td>\n",
              "      <td>4.513926</td>\n",
              "      <td>28.387097</td>\n",
              "      <td>31.971326</td>\n",
              "      <td>21573625.0</td>\n",
              "      <td>1.0</td>\n",
              "      <td>2.0</td>\n",
              "      <td>0.0</td>\n",
              "      <td>1.0</td>\n",
              "      <td>...</td>\n",
              "      <td>4.513926</td>\n",
              "      <td>907.57313</td>\n",
              "      <td>28.387097</td>\n",
              "      <td>28.387097</td>\n",
              "      <td>31.971326</td>\n",
              "      <td>31.971326</td>\n",
              "      <td>1.0</td>\n",
              "      <td>0013c9a8</td>\n",
              "      <td>B06XKFY3FR</td>\n",
              "      <td>1</td>\n",
              "    </tr>\n",
              "    <tr>\n",
              "      <th>2</th>\n",
              "      <td>1.0</td>\n",
              "      <td>92.0</td>\n",
              "      <td>4.513926</td>\n",
              "      <td>28.387097</td>\n",
              "      <td>31.971326</td>\n",
              "      <td>17950233.0</td>\n",
              "      <td>1.0</td>\n",
              "      <td>2.0</td>\n",
              "      <td>0.0</td>\n",
              "      <td>1.0</td>\n",
              "      <td>...</td>\n",
              "      <td>4.513926</td>\n",
              "      <td>907.57313</td>\n",
              "      <td>28.387097</td>\n",
              "      <td>28.387097</td>\n",
              "      <td>31.971326</td>\n",
              "      <td>31.971326</td>\n",
              "      <td>1.0</td>\n",
              "      <td>0013c9a8</td>\n",
              "      <td>B06XKFY3FR</td>\n",
              "      <td>1</td>\n",
              "    </tr>\n",
              "    <tr>\n",
              "      <th>3</th>\n",
              "      <td>2.0</td>\n",
              "      <td>92.0</td>\n",
              "      <td>4.513926</td>\n",
              "      <td>28.387097</td>\n",
              "      <td>31.971326</td>\n",
              "      <td>14338517.0</td>\n",
              "      <td>1.0</td>\n",
              "      <td>3.0</td>\n",
              "      <td>0.0</td>\n",
              "      <td>1.0</td>\n",
              "      <td>...</td>\n",
              "      <td>4.513926</td>\n",
              "      <td>907.57313</td>\n",
              "      <td>28.387097</td>\n",
              "      <td>28.387097</td>\n",
              "      <td>31.971326</td>\n",
              "      <td>31.971326</td>\n",
              "      <td>1.0</td>\n",
              "      <td>0013c9a8</td>\n",
              "      <td>B06XKFY3FR</td>\n",
              "      <td>1</td>\n",
              "    </tr>\n",
              "    <tr>\n",
              "      <th>4</th>\n",
              "      <td>3.0</td>\n",
              "      <td>92.0</td>\n",
              "      <td>4.513926</td>\n",
              "      <td>28.387097</td>\n",
              "      <td>31.971326</td>\n",
              "      <td>10708112.0</td>\n",
              "      <td>1.0</td>\n",
              "      <td>3.0</td>\n",
              "      <td>0.0</td>\n",
              "      <td>1.0</td>\n",
              "      <td>...</td>\n",
              "      <td>4.513926</td>\n",
              "      <td>907.57313</td>\n",
              "      <td>28.387097</td>\n",
              "      <td>28.387097</td>\n",
              "      <td>31.971326</td>\n",
              "      <td>31.971326</td>\n",
              "      <td>1.0</td>\n",
              "      <td>0013c9a8</td>\n",
              "      <td>B06XKFY3FR</td>\n",
              "      <td>1</td>\n",
              "    </tr>\n",
              "  </tbody>\n",
              "</table>\n",
              "<p>5 rows × 34 columns</p>\n",
              "</div>"
            ],
            "text/plain": [
              "   claim  num_rev   avg_rat  actualdis    dealdis     timeRem  num_type  \\\n",
              "0    0.0     92.0  4.513926  28.387097  31.971326  25178976.0       1.0   \n",
              "1    0.0     92.0  4.513926  28.387097  31.971326  21573625.0       1.0   \n",
              "2    1.0     92.0  4.513926  28.387097  31.971326  17950233.0       1.0   \n",
              "3    2.0     92.0  4.513926  28.387097  31.971326  14338517.0       1.0   \n",
              "4    3.0     92.0  4.513926  28.387097  31.971326  10708112.0       1.0   \n",
              "\n",
              "   recordtime  fixedEffects  day ...  day*avg_rat  dealdis*actualdis  \\\n",
              "0         2.0           0.0  1.0 ...     4.513926          907.57313   \n",
              "1         2.0           0.0  1.0 ...     4.513926          907.57313   \n",
              "2         2.0           0.0  1.0 ...     4.513926          907.57313   \n",
              "3         3.0           0.0  1.0 ...     4.513926          907.57313   \n",
              "4         3.0           0.0  1.0 ...     4.513926          907.57313   \n",
              "\n",
              "   num_type*actualdis  day*actualdis  num_type*dealdis  day*dealdis  \\\n",
              "0           28.387097      28.387097         31.971326    31.971326   \n",
              "1           28.387097      28.387097         31.971326    31.971326   \n",
              "2           28.387097      28.387097         31.971326    31.971326   \n",
              "3           28.387097      28.387097         31.971326    31.971326   \n",
              "4           28.387097      28.387097         31.971326    31.971326   \n",
              "\n",
              "   day*num_type   deal_id        asin  y  \n",
              "0           1.0  0013c9a8  B06XKFY3FR  0  \n",
              "1           1.0  0013c9a8  B06XKFY3FR  1  \n",
              "2           1.0  0013c9a8  B06XKFY3FR  1  \n",
              "3           1.0  0013c9a8  B06XKFY3FR  1  \n",
              "4           1.0  0013c9a8  B06XKFY3FR  1  \n",
              "\n",
              "[5 rows x 34 columns]"
            ]
          },
          "metadata": {
            "tags": []
          },
          "execution_count": 76
        }
      ]
    },
    {
      "metadata": {
        "id": "mY_v1LLKDSnM",
        "colab_type": "code",
        "outputId": "268e1033-f78e-46e8-8c63-bc220d4d6882",
        "colab": {
          "base_uri": "https://localhost:8080/",
          "height": 34
        }
      },
      "cell_type": "code",
      "source": [
        "df.columns\n",
        "df.shape"
      ],
      "execution_count": 77,
      "outputs": [
        {
          "output_type": "execute_result",
          "data": {
            "text/plain": [
              "(367606, 34)"
            ]
          },
          "metadata": {
            "tags": []
          },
          "execution_count": 77
        }
      ]
    },
    {
      "metadata": {
        "id": "xLhEFrFhOZkF",
        "colab_type": "code",
        "colab": {}
      },
      "cell_type": "code",
      "source": [
        "def get_per_claim(df):\n",
        "\n",
        "\tclaim = {}\n",
        "\n",
        "\tfor index, row in df.iterrows():\n",
        "\n",
        "\t\tdeal_id = row['deal_id']\n",
        "\n",
        "\t\tif(deal_id in claim):\n",
        "\t\t\tclaim[deal_id].append(row[0])\n",
        "\t\telse:\n",
        "\t\t\tclaim[deal_id] = [row[0]]\n",
        "\n",
        "\treturn claim"
      ],
      "execution_count": 0,
      "outputs": []
    },
    {
      "metadata": {
        "id": "9xodjYNw68e-",
        "colab_type": "code",
        "colab": {}
      },
      "cell_type": "code",
      "source": [
        "def x_value(df, c0_cutoff, c1_cutoff, c2_cutoff, c3_cutoff, num_prev_values, start, claim):\n",
        "\n",
        "\tx = [[]]\n",
        "\ty = []\n",
        "\tx = df.iloc[:, [0, 1, 2, 3, 4, 5, 6, 9\\\n",
        "\t \t# 10, 11, 12, 13, 14, 15, 16, 17, 18, 19, 20, 21, 22, 23, 24, 25, 26, 27, 28, 29, 30 \\\n",
        "\t \t]].values\n",
        "\n",
        "\ty = df.iloc[:, [0]].values\n",
        "\t\n",
        "\tactual_x = [[]]\n",
        "\tactual_y = []\n",
        "\n",
        "\tfor i in range(len(x)):\n",
        "\n",
        "\t\tperClaim = []\n",
        "\t\tasin = (df.iloc[[i]]['deal_id'].values)[0]\n",
        "\t\tperClaim = claim.get(asin)\n",
        "\t\tidx = perClaim.index(x[i][0])\n",
        "\t\t\n",
        "\t\tfor j in range(len(start)):\n",
        "\t\t\n",
        "\t\t\tl = []\n",
        "\t\t\tif((idx - start[j] - num_prev_values + 1) < 0):\n",
        "\t\t\t\tcontinue\n",
        "\n",
        "\t\t\tl = (perClaim[(idx-start[j]-num_prev_values+1):(idx-start[j]+1)])\n",
        "\n",
        "\t\t\tfor k in range(len(x[i]) - 1):\n",
        "\t\t\t\tl.append(x[i][k])\n",
        "\n",
        "\t\t\tl.append(start[j])\n",
        "\t\t\tactual_x.append(l)\n",
        "\t\t\tactual_y.append(y[i])\n",
        "\n",
        "\tactual_y = np.asarray(actual_y)\n",
        "\tactual_y[actual_y <= c0_cutoff] = 0\n",
        "\tactual_y[actual_y > c3_cutoff] = 4\n",
        "\tactual_y[actual_y > c2_cutoff] = 3\n",
        "\tactual_y[actual_y > c1_cutoff] = 2\n",
        "\tactual_y[actual_y > c0_cutoff] = 1\n",
        "\t\n",
        "\treturn actual_x, actual_y\n"
      ],
      "execution_count": 0,
      "outputs": []
    },
    {
      "metadata": {
        "id": "gYEOrR3a7LBQ",
        "colab_type": "code",
        "colab": {}
      },
      "cell_type": "code",
      "source": [
        "def equalSplit(x, y, ratio):\n",
        "\n",
        "\tlenY1 = np.count_nonzero(y == 1)\n",
        "\tlenY2 = np.count_nonzero(y == 2)\n",
        "\tlenY3 = np.count_nonzero(y == 3)\n",
        "\tlenY4 = np.count_nonzero(y == 4)\n",
        "\tlenY0 = len(y) - lenY1 - lenY2 - lenY3 - lenY4\n",
        "\n",
        "\ty0 = y[np.where(y == 0), :][0]\n",
        "\tx0 = x[np.where(y == 0), :][0]\n",
        "\tindex = np.random.choice(y0.shape[0], min(ratio*lenY4, lenY0), replace = False)\n",
        "\tx0 = x0[index]\n",
        "\ty0 = y0[index]\n",
        "\n",
        "\ty1 = y[np.where(y == 1), :][0]\n",
        "\tx1 = x[np.where(y == 1), :][0]\n",
        "\tindex = np.random.choice(y1.shape[0], min(ratio*lenY4, lenY1), replace = False)\n",
        "\tx1 = x1[index]\n",
        "\ty1 = y1[index]\n",
        "\t\n",
        "\ty2 = y[np.where(y == 2), :][0]\n",
        "\tx2 = x[np.where(y == 2), :][0]\n",
        "\tindex = np.random.choice(y2.shape[0], min(ratio*lenY4, lenY2), replace = False)\n",
        "\tx2 = x2[index]\n",
        "\ty2 = y2[index]\n",
        "\t\n",
        "\ty3 = y[np.where(y == 3), :][0]\n",
        "\tx3 = x[np.where(y == 3), :][0]\n",
        "\tindex = np.random.choice(y3.shape[0], min(ratio*lenY4, lenY3), replace = False)\n",
        "\tx3 = x3[index]\n",
        "\ty3 = y3[index]\n",
        "\n",
        "\ty4 = y[np.where(y == 4), :][0]\n",
        "\tx4 = x[np.where(y == 4), :][0]\n",
        "\tindex = np.random.choice(y4.shape[0], min(ratio*lenY4, lenY4), replace = False)\n",
        "\tx4 = x4[index]\n",
        "\ty4 = y4[index]\n",
        "\n",
        "\tx = np.vstack((x0, x1))\n",
        "\tx = np.vstack((x, x2))\n",
        "\tx = np.vstack((x, x3))\n",
        "\tx = np.vstack((x, x4))\n",
        "\ty = np.vstack((y0, y1))\n",
        "\ty = np.vstack((y, y2))\n",
        "\ty = np.vstack((y, y3))\n",
        "\ty = np.vstack((y, y4))\n",
        "\n",
        "\treturn x, y"
      ],
      "execution_count": 0,
      "outputs": []
    },
    {
      "metadata": {
        "id": "LVdn3H837N83",
        "colab_type": "code",
        "colab": {}
      },
      "cell_type": "code",
      "source": [
        "def StandardModel(numFeatures, Loss, optimizer):\n",
        "\n",
        "\tmodel = Sequential()\n",
        "\tmodel.add(Dense(12, input_dim = numFeatures, activation = 'relu'))\n",
        "\tmodel.add(Dense(8, activation = 'relu'))\n",
        "\tmodel.add(Dense(5, activation = 'softmax'))\n",
        "\tmodel.compile(loss = Loss, optimizer = optimizer, metrics = ['accuracy'])\n",
        "\t# model.fit(X, Y, epochs=150, batch_size=10,  verbose=2)\n",
        "\t# predictions = model.predict(X)"
      ],
      "execution_count": 0,
      "outputs": []
    },
    {
      "metadata": {
        "id": "fjaMPHAl7Qzr",
        "colab_type": "code",
        "colab": {}
      },
      "cell_type": "code",
      "source": [
        "def define_model():\n",
        "\n",
        "\tinput = Input(shape = INPUT_SHAPE_1, dtype = 'float32', name = 'features')\n",
        "\n",
        "\tx = Dense(200, kernel_regularizer = regularizers.l2(1e-3) ,name = 'Fully_Connected_Layer_1')(input)\n",
        "\tx = BatchNormalization()(x)\n",
        "\tx = LeakyReLU(alpha=0.01)(x)\n",
        "\tx = Dropout(DROPOUT,  name = 'Dropout_Regularization_1')(x)\n",
        "\n",
        "\tx = Dense(150, kernel_regularizer = regularizers.l2(1e-3), name = 'Fully_Connected_Layer_2')(x)\n",
        "\tx = BatchNormalization()(x)\n",
        "\tx = LeakyReLU(alpha=0.01)(x)\n",
        "\tx = Dropout(DROPOUT,  name = 'Dropout_Regularization_2')(x)\n",
        "\n",
        "\tx = Dense(90, kernel_regularizer = regularizers.l2(1e-3), name = 'Fully_Connected_Layer_3')(x)\n",
        "\tx = BatchNormalization()(x)\n",
        "\tx = LeakyReLU(alpha=0.01)(x)\n",
        "\tx = Dropout(DROPOUT,  name = 'Dropout_Regularization_3')(x)\n",
        "\n",
        "\tx = Dense(50, kernel_regularizer = regularizers.l2(1e-3), name = 'Fully_Connected_Layer_4')(x)\n",
        "\tx = BatchNormalization()(x)\n",
        "\tx = LeakyReLU(alpha=0.01)(x)\n",
        "\tx = Dropout(DROPOUT,  name = 'Dropout_Regularization_4')(x)\n",
        "\n",
        "\toutput = Dense(5, activation = 'softmax', name = 'Fully_Connected_Layer_5')(x)\n",
        "\n",
        "\tmodel = Model(inputs = [input], outputs = [output], name = 'my_model')\n",
        "\n",
        "\treturn model"
      ],
      "execution_count": 0,
      "outputs": []
    },
    {
      "metadata": {
        "id": "3zpAsWCWh3rN",
        "colab_type": "code",
        "colab": {}
      },
      "cell_type": "code",
      "source": [
        "def define_model_2():\n",
        "\n",
        "  input = Input(shape = INPUT_SHAPE_1, dtype = 'float32', name = 'features')\n",
        "\n",
        "  x = Dense(1024 ,name = 'Fully_Connected_Layer_0')(input)\n",
        "  # \tx = BatchNormalization()(x)\n",
        "  x = LeakyReLU(alpha=0.01)(x)\n",
        "\n",
        "\n",
        "  x = Dense(512 ,name = 'Fully_Connected_Layer_1')(x)\n",
        "  # \tx = BatchNormalization()(x)\n",
        "  x = LeakyReLU(alpha=0.01)(x)\n",
        "  # \tx = Dropout(DROPOUT,  name = 'Dropout_Regularization_1')(x)\n",
        "\n",
        "  x = Dense(256, name = 'Fully_Connected_Layer_2')(x)\n",
        "  # \tx = BatchNormalization()(x)\n",
        "  x = LeakyReLU(alpha=0.01)(x)\n",
        "  # \tx = Dropout(DROPOUT,  name = 'Dropout_Regularization_2')(x)\n",
        "\n",
        "  x = Dense(128, name = 'Fully_Connected_Layer_3')(x)\n",
        "  # \tx = BatchNormalization()(x)\n",
        "  x = LeakyReLU(alpha=0.01)(x)\n",
        "  # \tx = Dropout(DROPOUT,  name = 'Dropout_Regularization_3')(x)\n",
        "\n",
        "  x = Dense(64, name = 'Fully_Connected_Layer_4')(x)\n",
        "  # \tx = BatchNormalization()(x)\n",
        "  x = LeakyReLU(alpha=0.01)(x)\n",
        "  # \tx = Dropout(DROPOUT,  name = 'Dropout_Regularization_4')(x)\n",
        "\n",
        "  output = Dense(5, activation = 'softmax', name = 'Fully_Connected_Layer_5')(x)\n",
        "\n",
        "  model = Model(inputs = [input], outputs = [output], name = 'my_model')\n",
        "\n",
        "  return model"
      ],
      "execution_count": 0,
      "outputs": []
    },
    {
      "metadata": {
        "id": "-yxb8otF7T3W",
        "colab_type": "code",
        "colab": {}
      },
      "cell_type": "code",
      "source": [
        "def run_model(X_train, X_val, Y_train, Y_val, model):\n",
        "\n",
        "\tprint(model.summary())\n",
        "\tmodel.compile(loss='categorical_crossentropy', optimizer = optimizers.Adam(), metrics=['accuracy'])\n",
        "\tearlystop = EarlyStopping(monitor = 'val_loss', patience = PAT)\n",
        "\tcheck_pt = ModelCheckpoint(data_dir + 'model_.h5', save_best_only=True)\n",
        "\tcallbacks_list = [earlystop, check_pt]\n",
        "\n",
        "\ttrained_model = model.fit(X_train, [Y_train], epochs = EPOCHS, batch_size = BATCH_SIZE, shuffle = True, \\\n",
        "\t\t\t\t\t\t\t\tvalidation_data = [X_val, [Y_val]], callbacks = callbacks_list)\n",
        "\n",
        "\treturn trained_model, model"
      ],
      "execution_count": 0,
      "outputs": []
    },
    {
      "metadata": {
        "id": "5S1mcoudiJNI",
        "colab_type": "code",
        "colab": {}
      },
      "cell_type": "code",
      "source": [
        "def run_model_2(X_train, X_val, Y_train, Y_val, model):\n",
        "\n",
        "\tprint(model.summary())\n",
        "\tmodel.compile(loss='categorical_crossentropy', optimizer = optimizers.Adam(), metrics=['accuracy'])\n",
        "# \tearlystop = EarlyStopping(monitor = 'val_loss', patience = PAT)\n",
        "# \tcheck_pt = ModelCheckpoint(data_dir + 'model_.h5', save_best_only=True)\n",
        "# \tcallbacks_list = [earlystop, check_pt]\n",
        "\n",
        "\ttrained_model = model.fit(X_train, [Y_train], epochs = EPOCHS, batch_size = BATCH_SIZE, shuffle = True, \\\n",
        "\t\t\t\t\t\t\t\tvalidation_data = [X_val, [Y_val]])\n",
        "\n",
        "\treturn trained_model, model"
      ],
      "execution_count": 0,
      "outputs": []
    },
    {
      "metadata": {
        "id": "k8u_HJFb7Wy3",
        "colab_type": "code",
        "colab": {}
      },
      "cell_type": "code",
      "source": [
        "def model_history(trained_model):\n",
        "\n",
        "\tfig, axs = plt.subplots(1,2,figsize=(15,5))\n",
        "\n",
        "\taxs[0].plot(trained_model.history['loss'])\n",
        "\taxs[0].plot(trained_model.history['val_loss'])\n",
        "\taxs[0].set_title('Model Loss')\n",
        "\taxs[0].set_ylabel('Loss')\n",
        "\taxs[0].set_xlabel('Epoch')\n",
        "\taxs[0].legend(['Train', 'Validation'], loc='upper right')\n",
        "\n",
        "\taxs[1].plot(trained_model.history['acc'])\n",
        "\taxs[1].plot(trained_model.history['val_acc'])\n",
        "\taxs[1].set_title('Model Accuracy')\n",
        "\taxs[1].set_ylabel('Accuracy')\n",
        "\taxs[1].set_xlabel('Epoch')\n",
        "\taxs[1].legend(['Train', 'Validation'], loc='upper right')\n",
        "\tplt.show()"
      ],
      "execution_count": 0,
      "outputs": []
    },
    {
      "metadata": {
        "id": "wdvh04T_7ZeT",
        "colab_type": "code",
        "outputId": "a767ebda-0217-4916-b0f0-372aac328bbc",
        "colab": {
          "base_uri": "https://localhost:8080/",
          "height": 1777
        }
      },
      "cell_type": "code",
      "source": [
        "claim = get_per_claim(df)\n",
        "x, y = x_value(df, 20, 40, 60, 80, num_prev_values, start, claim)\n",
        "x = x[1:]\n",
        "x = np.asarray(x)\n",
        "print('x and y created')\n",
        "x, y = equalSplit(x, y, ratio)\n",
        "print('x and y equally splitted')\n",
        "\n",
        "from sklearn import preprocessing\n",
        "\n",
        "X_scaled = preprocessing.normalize(x)\n",
        "y = y.astype(int)\n",
        "x_train, x_test, y_train, y_test = train_test_split(X_scaled, y, test_size=0.4, random_state=42)\n",
        "x_val, x_test, y_val, y_test = train_test_split(x_test, y_test, test_size=0.2, random_state=42)\n",
        "\n",
        "# print(np.count_nonzero(y_train == 4))\n",
        "# print(np.count_nonzero(y_train == 3))\n",
        "# print(np.count_nonzero(y_train == 2))\n",
        "# print(np.count_nonzero(y_train == 1))\n",
        "# print(np.count_nonzero(y_train == 0))\n",
        "\n",
        "y_train = np.squeeze(np.eye(5)[y_train.reshape(-1)])\n",
        "print(len(X_scaled), len(y))\n",
        "y_val = np.squeeze(np.eye(5)[y_val.reshape(-1)])\n",
        "y_test = np.squeeze(np.eye(5)[y_test.reshape(-1)])\n",
        "\n",
        "# print('Training started')\n",
        "# clf = MLPClassifier()\n",
        "# clf.fit(x_train, y_train)\n",
        "\n",
        "# print('Testing Started')\n",
        "# y_pred = clf.predict(x_train)\n",
        "# print('Train Accuracy - ', accuracy_score(y_train, y_pred))\n",
        "# y_pred = clf.predict(x_test)\n",
        "# print('Test Accuracy - ', accuracy_score(y_test, y_pred))\n",
        "# print(len(x_train), len(x_test))\n",
        "\n",
        "INPUT_SHAPE_1 = (8 + num_prev_values, )\n",
        "EPOCHS = 100\n",
        "BATCH_SIZE = 512\n",
        "DROPOUT = 0.15\n",
        "PAT = 10\n",
        "\n",
        "K.clear_session()\n",
        "model = define_model()\n",
        "trained_model, model = run_model(x_train, x_val, y_train, y_val, model)\n",
        "model_history(trained_model)\n",
        "\n",
        "# y_pred = (model.predict(x_train)).argmax(axis=-1)\n",
        "# y_train = [np.where(r==1)[0][0] for r in y_train]\n",
        "# print(accuracy_score(y_train, y_pred))"
      ],
      "execution_count": 87,
      "outputs": [
        {
          "output_type": "stream",
          "text": [
            "x and y created\n",
            "x and y equally splitted\n",
            "10792 10792\n",
            "_________________________________________________________________\n",
            "Layer (type)                 Output Shape              Param #   \n",
            "=================================================================\n",
            "features (InputLayer)        (None, 18)                0         \n",
            "_________________________________________________________________\n",
            "Fully_Connected_Layer_1 (Den (None, 200)               3800      \n",
            "_________________________________________________________________\n",
            "batch_normalization_1 (Batch (None, 200)               800       \n",
            "_________________________________________________________________\n",
            "leaky_re_lu_1 (LeakyReLU)    (None, 200)               0         \n",
            "_________________________________________________________________\n",
            "Dropout_Regularization_1 (Dr (None, 200)               0         \n",
            "_________________________________________________________________\n",
            "Fully_Connected_Layer_2 (Den (None, 150)               30150     \n",
            "_________________________________________________________________\n",
            "batch_normalization_2 (Batch (None, 150)               600       \n",
            "_________________________________________________________________\n",
            "leaky_re_lu_2 (LeakyReLU)    (None, 150)               0         \n",
            "_________________________________________________________________\n",
            "Dropout_Regularization_2 (Dr (None, 150)               0         \n",
            "_________________________________________________________________\n",
            "Fully_Connected_Layer_3 (Den (None, 90)                13590     \n",
            "_________________________________________________________________\n",
            "batch_normalization_3 (Batch (None, 90)                360       \n",
            "_________________________________________________________________\n",
            "leaky_re_lu_3 (LeakyReLU)    (None, 90)                0         \n",
            "_________________________________________________________________\n",
            "Dropout_Regularization_3 (Dr (None, 90)                0         \n",
            "_________________________________________________________________\n",
            "Fully_Connected_Layer_4 (Den (None, 50)                4550      \n",
            "_________________________________________________________________\n",
            "batch_normalization_4 (Batch (None, 50)                200       \n",
            "_________________________________________________________________\n",
            "leaky_re_lu_4 (LeakyReLU)    (None, 50)                0         \n",
            "_________________________________________________________________\n",
            "Dropout_Regularization_4 (Dr (None, 50)                0         \n",
            "_________________________________________________________________\n",
            "Fully_Connected_Layer_5 (Den (None, 5)                 255       \n",
            "=================================================================\n",
            "Total params: 54,305\n",
            "Trainable params: 53,325\n",
            "Non-trainable params: 980\n",
            "_________________________________________________________________\n",
            "None\n",
            "Train on 6475 samples, validate on 3453 samples\n",
            "Epoch 1/100\n",
            "6475/6475 [==============================] - 1s 228us/step - loss: 2.1007 - acc: 0.2513 - val_loss: 10.1074 - val_acc: 0.2783\n",
            "Epoch 2/100\n",
            "6475/6475 [==============================] - 0s 33us/step - loss: 1.9809 - acc: 0.2877 - val_loss: 9.1533 - val_acc: 0.2783\n",
            "Epoch 3/100\n",
            "6475/6475 [==============================] - 0s 32us/step - loss: 1.9278 - acc: 0.3007 - val_loss: 8.8775 - val_acc: 0.2766\n",
            "Epoch 4/100\n",
            "6475/6475 [==============================] - 0s 32us/step - loss: 1.8768 - acc: 0.3061 - val_loss: 8.5959 - val_acc: 0.2766\n",
            "Epoch 5/100\n",
            "6475/6475 [==============================] - 0s 34us/step - loss: 1.8477 - acc: 0.3174 - val_loss: 10.9798 - val_acc: 0.2769\n",
            "Epoch 6/100\n",
            "6475/6475 [==============================] - 0s 32us/step - loss: 1.8182 - acc: 0.3186 - val_loss: 10.1833 - val_acc: 0.2769\n",
            "Epoch 7/100\n",
            "6475/6475 [==============================] - 0s 33us/step - loss: 1.7919 - acc: 0.3259 - val_loss: 9.5784 - val_acc: 0.2772\n",
            "Epoch 8/100\n",
            "6475/6475 [==============================] - 0s 33us/step - loss: 1.7799 - acc: 0.3263 - val_loss: 6.1367 - val_acc: 0.2766\n",
            "Epoch 9/100\n",
            "6475/6475 [==============================] - 0s 34us/step - loss: 1.7329 - acc: 0.3375 - val_loss: 7.0103 - val_acc: 0.2783\n",
            "Epoch 10/100\n",
            "6475/6475 [==============================] - 0s 32us/step - loss: 1.7193 - acc: 0.3353 - val_loss: 8.3734 - val_acc: 0.2757\n",
            "Epoch 11/100\n",
            "6475/6475 [==============================] - 0s 31us/step - loss: 1.7154 - acc: 0.3342 - val_loss: 11.9115 - val_acc: 0.2766\n",
            "Epoch 12/100\n",
            "6475/6475 [==============================] - 0s 32us/step - loss: 1.6816 - acc: 0.3583 - val_loss: 11.9104 - val_acc: 0.2763\n",
            "Epoch 13/100\n",
            "6475/6475 [==============================] - 0s 32us/step - loss: 1.6722 - acc: 0.3537 - val_loss: 11.9056 - val_acc: 0.2763\n",
            "Epoch 14/100\n",
            "6475/6475 [==============================] - 0s 33us/step - loss: 1.6650 - acc: 0.3497 - val_loss: 11.8991 - val_acc: 0.2763\n",
            "Epoch 15/100\n",
            "6475/6475 [==============================] - 0s 32us/step - loss: 1.6484 - acc: 0.3557 - val_loss: 11.8933 - val_acc: 0.2763\n",
            "Epoch 16/100\n",
            "6475/6475 [==============================] - 0s 32us/step - loss: 1.6344 - acc: 0.3555 - val_loss: 11.8879 - val_acc: 0.2763\n",
            "Epoch 17/100\n",
            "6475/6475 [==============================] - 0s 32us/step - loss: 1.6068 - acc: 0.3673 - val_loss: 11.8830 - val_acc: 0.2763\n",
            "Epoch 18/100\n",
            "6475/6475 [==============================] - 0s 32us/step - loss: 1.5993 - acc: 0.3716 - val_loss: 11.8782 - val_acc: 0.2763\n"
          ],
          "name": "stdout"
        },
        {
          "output_type": "display_data",
          "data": {
            "image/png": "[encoded data removed]",
            "text/plain": [
              "<Figure size 1080x360 with 2 Axes>"
            ]
          },
          "metadata": {
            "tags": []
          }
        }
      ]
    },
    {
      "metadata": {
        "id": "otpZIsSCHQ9W",
        "colab_type": "code",
        "outputId": "68b8f8c0-5163-4510-c96e-2a6d7b7e4930",
        "colab": {
          "base_uri": "https://localhost:8080/",
          "height": 34
        }
      },
      "cell_type": "code",
      "source": [
        "y_pred = (model.predict(x_test)).argmax(axis=-1)\n",
        "y_test = [np.where(r==1)[0][0] for r in y_test]\n",
        "print(accuracy_score(y_test, y_pred))"
      ],
      "execution_count": 88,
      "outputs": [
        {
          "output_type": "stream",
          "text": [
            "0.2962962962962963\n"
          ],
          "name": "stdout"
        }
      ]
    },
    {
      "metadata": {
        "id": "W8Hy6EPtga-2",
        "colab_type": "code",
        "outputId": "26f476cc-10fb-41d5-a488-84c9882128e9",
        "colab": {
          "base_uri": "https://localhost:8080/",
          "height": 275
        }
      },
      "cell_type": "code",
      "source": [
        "from sklearn.metrics import classification_report\n",
        "print(classification_report(y_test, y_pred))"
      ],
      "execution_count": 89,
      "outputs": [
        {
          "output_type": "stream",
          "text": [
            "              precision    recall  f1-score   support\n",
            "\n",
            "           0       0.30      1.00      0.46       256\n",
            "           1       0.00      0.00      0.00       243\n",
            "           2       0.00      0.00      0.00       196\n",
            "           3       0.00      0.00      0.00       125\n",
            "           4       0.00      0.00      0.00        44\n",
            "\n",
            "   micro avg       0.30      0.30      0.30       864\n",
            "   macro avg       0.06      0.20      0.09       864\n",
            "weighted avg       0.09      0.30      0.14       864\n",
            "\n"
          ],
          "name": "stdout"
        },
        {
          "output_type": "stream",
          "text": [
            "/usr/local/lib/python3.6/dist-packages/sklearn/metrics/classification.py:1143: UndefinedMetricWarning: Precision and F-score are ill-defined and being set to 0.0 in labels with no predicted samples.\n",
            "  'precision', 'predicted', average, warn_for)\n"
          ],
          "name": "stderr"
        }
      ]
    },
    {
      "metadata": {
        "colab_type": "code",
        "outputId": "d92998d3-8612-477f-fd51-d218823182d0",
        "id": "vx1QgyYMhEjV",
        "colab": {
          "base_uri": "https://localhost:8080/",
          "height": 34
        }
      },
      "cell_type": "code",
      "source": [
        "y_pred = (model.predict(x_train)).argmax(axis=-1)\n",
        "y_train = [np.where(r==1)[0][0] for r in y_train]\n",
        "print(accuracy_score(y_pred, y_train))"
      ],
      "execution_count": 90,
      "outputs": [
        {
          "output_type": "stream",
          "text": [
            "0.27181467181467184\n"
          ],
          "name": "stdout"
        }
      ]
    },
    {
      "metadata": {
        "colab_type": "code",
        "outputId": "d9398799-ae4f-43e8-99fe-e0a31de233c8",
        "id": "kIbsHbqahEjr",
        "colab": {
          "base_uri": "https://localhost:8080/",
          "height": 275
        }
      },
      "cell_type": "code",
      "source": [
        "from sklearn.metrics import classification_report\n",
        "print(classification_report(y_train, y_pred))"
      ],
      "execution_count": 91,
      "outputs": [
        {
          "output_type": "stream",
          "text": [
            "              precision    recall  f1-score   support\n",
            "\n",
            "           0       0.27      1.00      0.43      1760\n",
            "           1       0.00      0.00      0.00      1766\n",
            "           2       0.00      0.00      0.00      1617\n",
            "           3       0.00      0.00      0.00      1040\n",
            "           4       0.00      0.00      0.00       292\n",
            "\n",
            "   micro avg       0.27      0.27      0.27      6475\n",
            "   macro avg       0.05      0.20      0.09      6475\n",
            "weighted avg       0.07      0.27      0.12      6475\n",
            "\n"
          ],
          "name": "stdout"
        },
        {
          "output_type": "stream",
          "text": [
            "/usr/local/lib/python3.6/dist-packages/sklearn/metrics/classification.py:1143: UndefinedMetricWarning: Precision and F-score are ill-defined and being set to 0.0 in labels with no predicted samples.\n",
            "  'precision', 'predicted', average, warn_for)\n"
          ],
          "name": "stderr"
        }
      ]
    },
    {
      "metadata": {
        "colab_type": "code",
        "outputId": "93bfafec-df5d-48bc-ecb7-a69672f5ad08",
        "id": "kK44HWGch3W_",
        "colab": {
          "base_uri": "https://localhost:8080/",
          "height": 34
        }
      },
      "cell_type": "code",
      "source": [
        "y_pred = (model.predict(x_val)).argmax(axis=-1)\n",
        "y_val = [np.where(r==1)[0][0] for r in y_val]\n",
        "print(accuracy_score(y_val, y_pred))"
      ],
      "execution_count": 92,
      "outputs": [
        {
          "output_type": "stream",
          "text": [
            "0.27628149435273675\n"
          ],
          "name": "stdout"
        }
      ]
    },
    {
      "metadata": {
        "colab_type": "code",
        "outputId": "d6de48a1-8a22-42fa-bdad-67c759672c1c",
        "id": "Z6R9uz65h3XJ",
        "colab": {
          "base_uri": "https://localhost:8080/",
          "height": 275
        }
      },
      "cell_type": "code",
      "source": [
        "from sklearn.metrics import classification_report\n",
        "print(classification_report(y_val, y_pred))"
      ],
      "execution_count": 93,
      "outputs": [
        {
          "output_type": "stream",
          "text": [
            "              precision    recall  f1-score   support\n",
            "\n",
            "           0       0.28      1.00      0.43       954\n",
            "           1       0.00      0.00      0.00       961\n",
            "           2       0.00      0.00      0.00       848\n",
            "           3       0.00      0.00      0.00       531\n",
            "           4       0.00      0.00      0.00       159\n",
            "\n",
            "   micro avg       0.28      0.28      0.28      3453\n",
            "   macro avg       0.06      0.20      0.09      3453\n",
            "weighted avg       0.08      0.28      0.12      3453\n",
            "\n"
          ],
          "name": "stdout"
        },
        {
          "output_type": "stream",
          "text": [
            "/usr/local/lib/python3.6/dist-packages/sklearn/metrics/classification.py:1143: UndefinedMetricWarning: Precision and F-score are ill-defined and being set to 0.0 in labels with no predicted samples.\n",
            "  'precision', 'predicted', average, warn_for)\n"
          ],
          "name": "stderr"
        }
      ]
    },
    {
      "metadata": {
        "id": "SIqFJ9cV0Fnh",
        "colab_type": "code",
        "colab": {}
      },
      "cell_type": "code",
      "source": [
        ""
      ],
      "execution_count": 0,
      "outputs": []
    }
  ]
}