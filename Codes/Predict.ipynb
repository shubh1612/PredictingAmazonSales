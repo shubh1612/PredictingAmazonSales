{
  "nbformat": 4,
  "nbformat_minor": 0,
  "metadata": {
    "colab": {
      "name": "Predict.ipynb",
      "version": "0.3.2",
      "provenance": [],
      "collapsed_sections": []
    },
    "kernelspec": {
      "name": "python3",
      "display_name": "Python 3"
    },
    "accelerator": "GPU"
  },
  "cells": [
    {
      "metadata": {
        "id": "LeOakWfVdT67",
        "colab_type": "code",
        "outputId": "284222b8-06d3-4110-b992-3f4c6d365799",
        "colab": {
          "base_uri": "https://localhost:8080/",
          "height": 34
        }
      },
      "cell_type": "code",
      "source": [
        "from google.colab import drive\n",
        "drive.mount('/content/drive')"
      ],
      "execution_count": 0,
      "outputs": [
        {
          "output_type": "stream",
          "text": [
            "Drive already mounted at /content/drive; to attempt to forcibly remount, call drive.mount(\"/content/drive\", force_remount=True).\n"
          ],
          "name": "stdout"
        }
      ]
    },
    {
      "metadata": {
        "id": "8XrNwDZjK4fn",
        "colab_type": "code",
        "outputId": "8ca8f2c9-35f0-4d82-a824-299cb0c646ec",
        "colab": {
          "base_uri": "https://localhost:8080/",
          "height": 598
        }
      },
      "cell_type": "code",
      "source": [
        "!pip3 install cython\n",
        "!pip3 install tables\n",
        "!pip3 install statsmodels\n",
        "!pip3 install -q keras\n",
        "!pip3 install gensim\n",
        "!pip3 install nltk"
      ],
      "execution_count": 0,
      "outputs": [
        {
          "output_type": "stream",
          "text": [
            "Requirement already satisfied: cython in /usr/local/lib/python3.6/dist-packages (0.29.6)\n",
            "Requirement already satisfied: tables in /usr/local/lib/python3.6/dist-packages (3.4.4)\n",
            "Requirement already satisfied: numpy>=1.8.0 in /usr/local/lib/python3.6/dist-packages (from tables) (1.14.6)\n",
            "Requirement already satisfied: six>=1.9.0 in /usr/local/lib/python3.6/dist-packages (from tables) (1.11.0)\n",
            "Requirement already satisfied: numexpr>=2.5.2 in /usr/local/lib/python3.6/dist-packages (from tables) (2.6.9)\n",
            "Requirement already satisfied: statsmodels in /usr/local/lib/python3.6/dist-packages (0.8.0)\n",
            "Requirement already satisfied: patsy in /usr/local/lib/python3.6/dist-packages (from statsmodels) (0.5.1)\n",
            "Requirement already satisfied: scipy in /usr/local/lib/python3.6/dist-packages (from statsmodels) (1.1.0)\n",
            "Requirement already satisfied: pandas in /usr/local/lib/python3.6/dist-packages (from statsmodels) (0.22.0)\n",
            "Requirement already satisfied: six in /usr/local/lib/python3.6/dist-packages (from patsy->statsmodels) (1.11.0)\n",
            "Requirement already satisfied: numpy>=1.4 in /usr/local/lib/python3.6/dist-packages (from patsy->statsmodels) (1.14.6)\n",
            "Requirement already satisfied: python-dateutil>=2 in /usr/local/lib/python3.6/dist-packages (from pandas->statsmodels) (2.5.3)\n",
            "Requirement already satisfied: pytz>=2011k in /usr/local/lib/python3.6/dist-packages (from pandas->statsmodels) (2018.9)\n",
            "Requirement already satisfied: gensim in /usr/local/lib/python3.6/dist-packages (3.6.0)\n",
            "Requirement already satisfied: scipy>=0.18.1 in /usr/local/lib/python3.6/dist-packages (from gensim) (1.1.0)\n",
            "Requirement already satisfied: smart-open>=1.2.1 in /usr/local/lib/python3.6/dist-packages (from gensim) (1.8.0)\n",
            "Requirement already satisfied: six>=1.5.0 in /usr/local/lib/python3.6/dist-packages (from gensim) (1.11.0)\n",
            "Requirement already satisfied: numpy>=1.11.3 in /usr/local/lib/python3.6/dist-packages (from gensim) (1.14.6)\n",
            "Requirement already satisfied: boto>=2.32 in /usr/local/lib/python3.6/dist-packages (from smart-open>=1.2.1->gensim) (2.49.0)\n",
            "Requirement already satisfied: bz2file in /usr/local/lib/python3.6/dist-packages (from smart-open>=1.2.1->gensim) (0.98)\n",
            "Requirement already satisfied: requests in /usr/local/lib/python3.6/dist-packages (from smart-open>=1.2.1->gensim) (2.18.4)\n",
            "Requirement already satisfied: boto3 in /usr/local/lib/python3.6/dist-packages (from smart-open>=1.2.1->gensim) (1.9.128)\n",
            "Requirement already satisfied: urllib3<1.23,>=1.21.1 in /usr/local/lib/python3.6/dist-packages (from requests->smart-open>=1.2.1->gensim) (1.22)\n",
            "Requirement already satisfied: idna<2.7,>=2.5 in /usr/local/lib/python3.6/dist-packages (from requests->smart-open>=1.2.1->gensim) (2.6)\n",
            "Requirement already satisfied: chardet<3.1.0,>=3.0.2 in /usr/local/lib/python3.6/dist-packages (from requests->smart-open>=1.2.1->gensim) (3.0.4)\n",
            "Requirement already satisfied: certifi>=2017.4.17 in /usr/local/lib/python3.6/dist-packages (from requests->smart-open>=1.2.1->gensim) (2019.3.9)\n",
            "Requirement already satisfied: botocore<1.13.0,>=1.12.128 in /usr/local/lib/python3.6/dist-packages (from boto3->smart-open>=1.2.1->gensim) (1.12.128)\n",
            "Requirement already satisfied: jmespath<1.0.0,>=0.7.1 in /usr/local/lib/python3.6/dist-packages (from boto3->smart-open>=1.2.1->gensim) (0.9.4)\n",
            "Requirement already satisfied: s3transfer<0.3.0,>=0.2.0 in /usr/local/lib/python3.6/dist-packages (from boto3->smart-open>=1.2.1->gensim) (0.2.0)\n",
            "Requirement already satisfied: docutils>=0.10 in /usr/local/lib/python3.6/dist-packages (from botocore<1.13.0,>=1.12.128->boto3->smart-open>=1.2.1->gensim) (0.14)\n",
            "Requirement already satisfied: python-dateutil<3.0.0,>=2.1; python_version >= \"2.7\" in /usr/local/lib/python3.6/dist-packages (from botocore<1.13.0,>=1.12.128->boto3->smart-open>=1.2.1->gensim) (2.5.3)\n",
            "Requirement already satisfied: nltk in /usr/local/lib/python3.6/dist-packages (3.2.5)\n",
            "Requirement already satisfied: six in /usr/local/lib/python3.6/dist-packages (from nltk) (1.11.0)\n"
          ],
          "name": "stdout"
        }
      ]
    },
    {
      "metadata": {
        "id": "fcATxs2UJ_ZL",
        "colab_type": "code",
        "outputId": "8326aebd-f367-4c29-faa6-1598cb58bb5b",
        "colab": {
          "base_uri": "https://localhost:8080/",
          "height": 34
        }
      },
      "cell_type": "code",
      "source": [
        "import time\n",
        "import numpy as np\n",
        "import pandas as pd\n",
        "import matplotlib.pyplot as plt\n",
        "\n",
        "from sklearn.model_selection import train_test_split\n",
        "from sklearn.metrics import accuracy_score\n",
        "from sklearn import svm\n",
        "from sklearn.neural_network import MLPClassifier\n",
        "from sklearn.ensemble import RandomForestClassifier\n",
        "from sklearn import preprocessing\n",
        "\n",
        "import tensorflow as tf\n",
        "\n",
        "from keras.utils import np_utils\n",
        "from keras.models import Sequential\n",
        "from keras.layers import Dense\n",
        "from keras.models import Model, load_model\n",
        "from keras.layers import Input, CuDNNLSTM, Activation, Lambda, Dense, LeakyReLU, Conv1D,GlobalAveragePooling1D\n",
        "from keras.layers import Dropout, Bidirectional,Concatenate, BatchNormalization, Flatten\n",
        "from keras import backend as K, regularizers\n",
        "from keras import optimizers, regularizers, initializers\n",
        "from keras.callbacks import EarlyStopping, TensorBoard, ModelCheckpoint\n",
        "from keras.constraints import maxnorm\n",
        "from keras.regularizers import l2"
      ],
      "execution_count": 0,
      "outputs": [
        {
          "output_type": "stream",
          "text": [
            "Using TensorFlow backend.\n"
          ],
          "name": "stderr"
        }
      ]
    },
    {
      "metadata": {
        "id": "2Tnofh6PLqSC",
        "colab_type": "code",
        "colab": {}
      },
      "cell_type": "code",
      "source": [
        "ratio = 6\n",
        "data_dir = 'drive/My Drive/'\n",
        "data_file = 'drive/My Drive/5minNo_normalized_data.h5'\n",
        "\n",
        "num_prev_values = 12\n",
        "start = [30]\n",
        "num_classes = 10\n",
        "cutoff = []\n",
        "# data_dir = 'drive/My Drive/btp/sem2_start/Prediction/'\n",
        "# data_file = 'drive/My Drive/btp/sem2_start/Prediction/No_normalized_data.h5'"
      ],
      "execution_count": 0,
      "outputs": []
    },
    {
      "metadata": {
        "id": "IQPrhthsDKL9",
        "colab_type": "code",
        "colab": {}
      },
      "cell_type": "code",
      "source": [
        "df = pd.read_hdf(data_file)"
      ],
      "execution_count": 0,
      "outputs": []
    },
    {
      "metadata": {
        "id": "vTOmQMh6DQrp",
        "colab_type": "code",
        "outputId": "757cd72c-04d7-48cb-a020-5ffdf3c59c71",
        "colab": {
          "base_uri": "https://localhost:8080/",
          "height": 253
        }
      },
      "cell_type": "code",
      "source": [
        "df.head()"
      ],
      "execution_count": 0,
      "outputs": [
        {
          "output_type": "execute_result",
          "data": {
            "text/html": [
              "<div>\n",
              "<style scoped>\n",
              "    .dataframe tbody tr th:only-of-type {\n",
              "        vertical-align: middle;\n",
              "    }\n",
              "\n",
              "    .dataframe tbody tr th {\n",
              "        vertical-align: top;\n",
              "    }\n",
              "\n",
              "    .dataframe thead th {\n",
              "        text-align: right;\n",
              "    }\n",
              "</style>\n",
              "<table border=\"1\" class=\"dataframe\">\n",
              "  <thead>\n",
              "    <tr style=\"text-align: right;\">\n",
              "      <th></th>\n",
              "      <th>claim</th>\n",
              "      <th>num_rev</th>\n",
              "      <th>avg_rat</th>\n",
              "      <th>actualdis</th>\n",
              "      <th>dealdis</th>\n",
              "      <th>timeRem</th>\n",
              "      <th>num_type</th>\n",
              "      <th>recordtime</th>\n",
              "      <th>fixedEffects</th>\n",
              "      <th>day</th>\n",
              "      <th>...</th>\n",
              "      <th>day*avg_rat</th>\n",
              "      <th>dealdis*actualdis</th>\n",
              "      <th>num_type*actualdis</th>\n",
              "      <th>day*actualdis</th>\n",
              "      <th>num_type*dealdis</th>\n",
              "      <th>day*dealdis</th>\n",
              "      <th>day*num_type</th>\n",
              "      <th>deal_id</th>\n",
              "      <th>asin</th>\n",
              "      <th>y</th>\n",
              "    </tr>\n",
              "  </thead>\n",
              "  <tbody>\n",
              "    <tr>\n",
              "      <th>0</th>\n",
              "      <td>0.0</td>\n",
              "      <td>92.0</td>\n",
              "      <td>4.513926</td>\n",
              "      <td>28.387097</td>\n",
              "      <td>31.971326</td>\n",
              "      <td>28467046.0</td>\n",
              "      <td>1.0</td>\n",
              "      <td>2.0</td>\n",
              "      <td>0.0</td>\n",
              "      <td>1.0</td>\n",
              "      <td>...</td>\n",
              "      <td>4.513926</td>\n",
              "      <td>907.57313</td>\n",
              "      <td>28.387097</td>\n",
              "      <td>28.387097</td>\n",
              "      <td>31.971326</td>\n",
              "      <td>31.971326</td>\n",
              "      <td>1.0</td>\n",
              "      <td>0013c9a8</td>\n",
              "      <td>B06XKFY3FR</td>\n",
              "      <td>0</td>\n",
              "    </tr>\n",
              "    <tr>\n",
              "      <th>1</th>\n",
              "      <td>0.0</td>\n",
              "      <td>92.0</td>\n",
              "      <td>4.513926</td>\n",
              "      <td>28.387097</td>\n",
              "      <td>31.971326</td>\n",
              "      <td>28153391.0</td>\n",
              "      <td>1.0</td>\n",
              "      <td>2.0</td>\n",
              "      <td>0.0</td>\n",
              "      <td>1.0</td>\n",
              "      <td>...</td>\n",
              "      <td>4.513926</td>\n",
              "      <td>907.57313</td>\n",
              "      <td>28.387097</td>\n",
              "      <td>28.387097</td>\n",
              "      <td>31.971326</td>\n",
              "      <td>31.971326</td>\n",
              "      <td>1.0</td>\n",
              "      <td>0013c9a8</td>\n",
              "      <td>B06XKFY3FR</td>\n",
              "      <td>0</td>\n",
              "    </tr>\n",
              "    <tr>\n",
              "      <th>2</th>\n",
              "      <td>0.0</td>\n",
              "      <td>92.0</td>\n",
              "      <td>4.513926</td>\n",
              "      <td>28.387097</td>\n",
              "      <td>31.971326</td>\n",
              "      <td>27840476.0</td>\n",
              "      <td>1.0</td>\n",
              "      <td>2.0</td>\n",
              "      <td>0.0</td>\n",
              "      <td>1.0</td>\n",
              "      <td>...</td>\n",
              "      <td>4.513926</td>\n",
              "      <td>907.57313</td>\n",
              "      <td>28.387097</td>\n",
              "      <td>28.387097</td>\n",
              "      <td>31.971326</td>\n",
              "      <td>31.971326</td>\n",
              "      <td>1.0</td>\n",
              "      <td>0013c9a8</td>\n",
              "      <td>B06XKFY3FR</td>\n",
              "      <td>0</td>\n",
              "    </tr>\n",
              "    <tr>\n",
              "      <th>3</th>\n",
              "      <td>0.0</td>\n",
              "      <td>92.0</td>\n",
              "      <td>4.513926</td>\n",
              "      <td>28.387097</td>\n",
              "      <td>31.971326</td>\n",
              "      <td>27516851.0</td>\n",
              "      <td>1.0</td>\n",
              "      <td>2.0</td>\n",
              "      <td>0.0</td>\n",
              "      <td>1.0</td>\n",
              "      <td>...</td>\n",
              "      <td>4.513926</td>\n",
              "      <td>907.57313</td>\n",
              "      <td>28.387097</td>\n",
              "      <td>28.387097</td>\n",
              "      <td>31.971326</td>\n",
              "      <td>31.971326</td>\n",
              "      <td>1.0</td>\n",
              "      <td>0013c9a8</td>\n",
              "      <td>B06XKFY3FR</td>\n",
              "      <td>0</td>\n",
              "    </tr>\n",
              "    <tr>\n",
              "      <th>4</th>\n",
              "      <td>0.0</td>\n",
              "      <td>92.0</td>\n",
              "      <td>4.513926</td>\n",
              "      <td>28.387097</td>\n",
              "      <td>31.971326</td>\n",
              "      <td>27193850.0</td>\n",
              "      <td>1.0</td>\n",
              "      <td>2.0</td>\n",
              "      <td>0.0</td>\n",
              "      <td>1.0</td>\n",
              "      <td>...</td>\n",
              "      <td>4.513926</td>\n",
              "      <td>907.57313</td>\n",
              "      <td>28.387097</td>\n",
              "      <td>28.387097</td>\n",
              "      <td>31.971326</td>\n",
              "      <td>31.971326</td>\n",
              "      <td>1.0</td>\n",
              "      <td>0013c9a8</td>\n",
              "      <td>B06XKFY3FR</td>\n",
              "      <td>0</td>\n",
              "    </tr>\n",
              "  </tbody>\n",
              "</table>\n",
              "<p>5 rows × 34 columns</p>\n",
              "</div>"
            ],
            "text/plain": [
              "   claim  num_rev   avg_rat  actualdis    dealdis     timeRem  num_type  \\\n",
              "0    0.0     92.0  4.513926  28.387097  31.971326  28467046.0       1.0   \n",
              "1    0.0     92.0  4.513926  28.387097  31.971326  28153391.0       1.0   \n",
              "2    0.0     92.0  4.513926  28.387097  31.971326  27840476.0       1.0   \n",
              "3    0.0     92.0  4.513926  28.387097  31.971326  27516851.0       1.0   \n",
              "4    0.0     92.0  4.513926  28.387097  31.971326  27193850.0       1.0   \n",
              "\n",
              "   recordtime  fixedEffects  day ...  day*avg_rat  dealdis*actualdis  \\\n",
              "0         2.0           0.0  1.0 ...     4.513926          907.57313   \n",
              "1         2.0           0.0  1.0 ...     4.513926          907.57313   \n",
              "2         2.0           0.0  1.0 ...     4.513926          907.57313   \n",
              "3         2.0           0.0  1.0 ...     4.513926          907.57313   \n",
              "4         2.0           0.0  1.0 ...     4.513926          907.57313   \n",
              "\n",
              "   num_type*actualdis  day*actualdis  num_type*dealdis  day*dealdis  \\\n",
              "0           28.387097      28.387097         31.971326    31.971326   \n",
              "1           28.387097      28.387097         31.971326    31.971326   \n",
              "2           28.387097      28.387097         31.971326    31.971326   \n",
              "3           28.387097      28.387097         31.971326    31.971326   \n",
              "4           28.387097      28.387097         31.971326    31.971326   \n",
              "\n",
              "   day*num_type   deal_id        asin  y  \n",
              "0           1.0  0013c9a8  B06XKFY3FR  0  \n",
              "1           1.0  0013c9a8  B06XKFY3FR  0  \n",
              "2           1.0  0013c9a8  B06XKFY3FR  0  \n",
              "3           1.0  0013c9a8  B06XKFY3FR  0  \n",
              "4           1.0  0013c9a8  B06XKFY3FR  0  \n",
              "\n",
              "[5 rows x 34 columns]"
            ]
          },
          "metadata": {
            "tags": []
          },
          "execution_count": 6
        }
      ]
    },
    {
      "metadata": {
        "id": "mY_v1LLKDSnM",
        "colab_type": "code",
        "outputId": "f6a21f57-1ea4-4c2e-b894-520d657832d0",
        "colab": {
          "base_uri": "https://localhost:8080/",
          "height": 34
        }
      },
      "cell_type": "code",
      "source": [
        "df.columns\n",
        "df.shape"
      ],
      "execution_count": 0,
      "outputs": [
        {
          "output_type": "execute_result",
          "data": {
            "text/plain": [
              "(4106495, 34)"
            ]
          },
          "metadata": {
            "tags": []
          },
          "execution_count": 7
        }
      ]
    },
    {
      "metadata": {
        "id": "xLhEFrFhOZkF",
        "colab_type": "code",
        "colab": {}
      },
      "cell_type": "code",
      "source": [
        "def get_per_claim(df):\n",
        "\n",
        "\tclaim = {}\n",
        "\n",
        "\tfor index, row in df.iterrows():\n",
        "\n",
        "\t\tdeal_id = row['deal_id']\n",
        "\n",
        "\t\tif(deal_id in claim):\n",
        "\t\t\tclaim[deal_id].append(row[0])\n",
        "\t\telse:\n",
        "\t\t\tclaim[deal_id] = [row[0]]\n",
        "\n",
        "\treturn claim"
      ],
      "execution_count": 0,
      "outputs": []
    },
    {
      "metadata": {
        "id": "9xodjYNw68e-",
        "colab_type": "code",
        "colab": {}
      },
      "cell_type": "code",
      "source": [
        "def x_value(df, num_prev_values, start, claim):\n",
        "\n",
        "\tx = [[]]\n",
        "\ty = []\n",
        "\tx = df.iloc[:, [0, 1, 2, 3, 4, 5, 6, 9\\\n",
        "\t \t# 10, 11, 12, 13, 14, 15, 16, 17, 18, 19, 20, 21, 22, 23, 24, 25, 26, 27, 28, 29, 30 \\\n",
        "\t \t]].values\n",
        "\n",
        "\ty = df.iloc[:, [0]].values\n",
        "\t\n",
        "\tactual_x = [[]]\n",
        "\tactual_y = []\n",
        "\n",
        "\tfor i in range(len(x)):\n",
        "\n",
        "\t\tperClaim = []\n",
        "\t\tasin = (df.iloc[[i]]['deal_id'].values)[0]\n",
        "\t\tperClaim = claim.get(asin)\n",
        "\t\tidx = perClaim.index(x[i][0])\n",
        "\t\t\n",
        "\t\tfor j in range(len(start)):\n",
        "\t\t\n",
        "\t\t\tl = []\n",
        "\t\t\tif((idx - start[j] - num_prev_values + 1) < 0):\n",
        "\t\t\t\tcontinue\n",
        "\n",
        "\t\t\tl = (perClaim[(idx-start[j]-num_prev_values+1):(idx-start[j]+1)])\n",
        "\n",
        "\t\t\tfor k in range(len(x[i]) - 1):\n",
        "\t\t\t\tl.append(x[i][k])\n",
        "\n",
        "\t\t\tl.append(start[j])\n",
        "\t\t\tactual_x.append(l)\n",
        "\t\t\tactual_y.append(y[i])\n",
        "\n",
        "\tactual_y = np.asarray(actual_y)\n",
        "\t\n",
        "\treturn actual_x, actual_y"
      ],
      "execution_count": 0,
      "outputs": []
    },
    {
      "metadata": {
        "id": "v4b4b1jfNvNB",
        "colab_type": "code",
        "colab": {}
      },
      "cell_type": "code",
      "source": [
        "def y_value(y, num_classes, cutoff):\n",
        "\n",
        "  if(len(cutoff) == 0):\n",
        "    \n",
        "    cutoff_pt = 100/num_classes\n",
        "    num = int(num_classes/cutoff_pt)\n",
        "    for i in range(0, num_classes):\n",
        "      y[(y >= i*cutoff_pt) & (y < (i+1)*cutoff_pt)] = i    \n",
        "    y[y == 100] = num_classes - 1\n",
        "\n",
        "  else:\n",
        "    \n",
        "    y[y <= cutoff[0]] = 0\n",
        "    for i in range(1, num_classes):\n",
        "      y[(y > cutoff[i-1]) & (y <= cutoff[i])] = i\n",
        "\n",
        "  return y"
      ],
      "execution_count": 0,
      "outputs": []
    },
    {
      "metadata": {
        "id": "gYEOrR3a7LBQ",
        "colab_type": "code",
        "colab": {}
      },
      "cell_type": "code",
      "source": [
        "def equalSplit(x, y, ratio, num_classes):\n",
        "\n",
        "  leny = []\n",
        "  mini = np.count_nonzero(y==0)\n",
        "\n",
        "  for i in range(num_classes):\n",
        "    val = np.count_nonzero(y==i)\n",
        "    leny.append(val)\n",
        "    if(val != 0 and mini > val):\n",
        "      mini = val\n",
        "\n",
        "  y0 = y[np.where(y == 0), :][0]\n",
        "  x0 = x[np.where(y == 0), :][0]\n",
        "  index = np.random.choice(y0.shape[0], min(ratio*mini, leny[0]), replace = False)\n",
        "  x0 = x0[index]\n",
        "  y0 = y0[index]\n",
        "\n",
        "  y1 = y[np.where(y == 1), :][0]\n",
        "  x1 = x[np.where(y == 1), :][0]\n",
        "  index = np.random.choice(y1.shape[0], min(ratio*mini, leny[1]), replace = False)\n",
        "  x1 = x1[index]\n",
        "  y1 = y1[index]\n",
        "\n",
        "  actual_x = np.vstack((x0, x1))\n",
        "  actual_y = np.vstack((y0, y1))\n",
        "\n",
        "  for i in range(2, num_classes):\n",
        "\n",
        "    y_prime = []\n",
        "    x_prime = []\n",
        "    y_prime = y[np.where(y == i), :][0]\n",
        "    x_prime = x[np.where(y == i), :][0]\n",
        "\n",
        "    if(leny[i] == 0):\n",
        "      print(i)\n",
        "      continue\n",
        "\n",
        "    index = np.random.choice(y_prime.shape[0], min(ratio*mini, leny[i]), replace = False)\n",
        "\n",
        "    x_prime = x_prime[index]\n",
        "    y_prime = y_prime[index]\n",
        "    actual_x = np.vstack((actual_x, x_prime))\n",
        "    actual_y = np.vstack((actual_y, y_prime))\n",
        "\n",
        "  return x, y"
      ],
      "execution_count": 0,
      "outputs": []
    },
    {
      "metadata": {
        "id": "LVdn3H837N83",
        "colab_type": "code",
        "colab": {}
      },
      "cell_type": "code",
      "source": [
        "def StandardModel(numFeatures, Loss, optimizer):\n",
        "\n",
        "\tmodel = Sequential()\n",
        "\tmodel.add(Dense(12, input_dim = numFeatures, activation = 'relu'))\n",
        "\tmodel.add(Dense(8, activation = 'relu'))\n",
        "\tmodel.add(Dense(5, activation = 'softmax'))\n",
        "\tmodel.compile(loss = Loss, optimizer = optimizer, metrics = ['accuracy'])\n",
        "\t# model.fit(X, Y, epochs=150, batch_size=10,  verbose=2)\n",
        "\t# predictions = model.predict(X)"
      ],
      "execution_count": 0,
      "outputs": []
    },
    {
      "metadata": {
        "id": "fjaMPHAl7Qzr",
        "colab_type": "code",
        "colab": {}
      },
      "cell_type": "code",
      "source": [
        "def define_model(num_classes):\n",
        "\n",
        "\tinput = Input(shape = INPUT_SHAPE_1, dtype = 'float32', name = 'features')\n",
        "\n",
        "\tx = Dense(200, kernel_regularizer = regularizers.l2(1e-3) ,name = 'Fully_Connected_Layer_1')(input)\n",
        "\tx = BatchNormalization()(x)\n",
        "\tx = LeakyReLU(alpha=0.01)(x)\n",
        "\tx = Dropout(DROPOUT,  name = 'Dropout_Regularization_1')(x)\n",
        "\n",
        "\tx = Dense(150, kernel_regularizer = regularizers.l2(1e-3), name = 'Fully_Connected_Layer_2')(x)\n",
        "\tx = BatchNormalization()(x)\n",
        "\tx = LeakyReLU(alpha=0.01)(x)\n",
        "\tx = Dropout(DROPOUT,  name = 'Dropout_Regularization_2')(x)\n",
        "\n",
        "\tx = Dense(90, kernel_regularizer = regularizers.l2(1e-3), name = 'Fully_Connected_Layer_3')(x)\n",
        "\tx = BatchNormalization()(x)\n",
        "\tx = LeakyReLU(alpha=0.01)(x)\n",
        "\tx = Dropout(DROPOUT,  name = 'Dropout_Regularization_3')(x)\n",
        "\n",
        "\tx = Dense(50, kernel_regularizer = regularizers.l2(1e-3), name = 'Fully_Connected_Layer_4')(x)\n",
        "\tx = BatchNormalization()(x)\n",
        "\tx = LeakyReLU(alpha=0.01)(x)\n",
        "\tx = Dropout(DROPOUT,  name = 'Dropout_Regularization_4')(x)\n",
        "\n",
        "\toutput = Dense(num_classes, activation = 'softmax', name = 'Fully_Connected_Layer_5')(x)\n",
        "\n",
        "\tmodel = Model(inputs = [input], outputs = [output], name = 'my_model')\n",
        "\n",
        "\treturn model"
      ],
      "execution_count": 0,
      "outputs": []
    },
    {
      "metadata": {
        "id": "3zpAsWCWh3rN",
        "colab_type": "code",
        "colab": {}
      },
      "cell_type": "code",
      "source": [
        "def define_model_2(num_classes):\n",
        "\n",
        "  input = Input(shape = INPUT_SHAPE_1, dtype = 'float32', name = 'features')\n",
        "\n",
        "  x = Dense(1024 ,name = 'Fully_Connected_Layer_0')(input)\n",
        "  # \tx = BatchNormalization()(x)\n",
        "  x = LeakyReLU(alpha=0.01)(x)\n",
        "\n",
        "\n",
        "  x = Dense(512 ,name = 'Fully_Connected_Layer_1')(x)\n",
        "  # \tx = BatchNormalization()(x)\n",
        "  x = LeakyReLU(alpha=0.01)(x)\n",
        "  # \tx = Dropout(DROPOUT,  name = 'Dropout_Regularization_1')(x)\n",
        "\n",
        "  x = Dense(256, name = 'Fully_Connected_Layer_2')(x)\n",
        "  # \tx = BatchNormalization()(x)\n",
        "  x = LeakyReLU(alpha=0.01)(x)\n",
        "  # \tx = Dropout(DROPOUT,  name = 'Dropout_Regularization_2')(x)\n",
        "\n",
        "  x = Dense(128, name = 'Fully_Connected_Layer_3')(x)\n",
        "  # \tx = BatchNormalization()(x)\n",
        "  x = LeakyReLU(alpha=0.01)(x)\n",
        "  # \tx = Dropout(DROPOUT,  name = 'Dropout_Regularization_3')(x)\n",
        "\n",
        "  x = Dense(64, name = 'Fully_Connected_Layer_4')(x)\n",
        "  # \tx = BatchNormalization()(x)\n",
        "  x = LeakyReLU(alpha=0.01)(x)\n",
        "  # \tx = Dropout(DROPOUT,  name = 'Dropout_Regularization_4')(x)\n",
        "\n",
        "  output = Dense(num_classes, activation = 'softmax', name = 'Fully_Connected_Layer_5')(x)\n",
        "\n",
        "  model = Model(inputs = [input], outputs = [output], name = 'my_model')\n",
        "\n",
        "  return model"
      ],
      "execution_count": 0,
      "outputs": []
    },
    {
      "metadata": {
        "id": "-yxb8otF7T3W",
        "colab_type": "code",
        "colab": {}
      },
      "cell_type": "code",
      "source": [
        "def run_model(X_train, X_val, Y_train, Y_val, model):\n",
        "\n",
        "\tprint(model.summary())\n",
        "\tmodel.compile(loss='categorical_crossentropy', optimizer = optimizers.Adam(), metrics=['accuracy'])\n",
        "\tearlystop = EarlyStopping(monitor = 'val_loss', patience = PAT)\n",
        "\tcheck_pt = ModelCheckpoint(data_dir + 'model_.h5', save_best_only=True)\n",
        "\tcallbacks_list = [earlystop, check_pt]\n",
        "\n",
        "\ttrained_model = model.fit(X_train, [Y_train], epochs = EPOCHS, batch_size = BATCH_SIZE, shuffle = True, \\\n",
        "\t\t\t\t\t\t\t\tvalidation_data = [X_val, [Y_val]], callbacks = callbacks_list)\n",
        "\n",
        "\treturn trained_model, model"
      ],
      "execution_count": 0,
      "outputs": []
    },
    {
      "metadata": {
        "id": "5S1mcoudiJNI",
        "colab_type": "code",
        "colab": {}
      },
      "cell_type": "code",
      "source": [
        "def run_model_2(X_train, X_val, Y_train, Y_val, model):\n",
        "\n",
        "\tprint(model.summary())\n",
        "\tmodel.compile(loss='categorical_crossentropy', optimizer = optimizers.Adam(), metrics=['accuracy'])\n",
        "# \tearlystop = EarlyStopping(monitor = 'val_loss', patience = PAT)\n",
        "# \tcheck_pt = ModelCheckpoint(data_dir + 'model_.h5', save_best_only=True)\n",
        "# \tcallbacks_list = [earlystop, check_pt]\n",
        "\n",
        "\ttrained_model = model.fit(X_train, [Y_train], epochs = EPOCHS, batch_size = BATCH_SIZE, shuffle = True, \\\n",
        "\t\t\t\t\t\t\t\tvalidation_data = [X_val, [Y_val]])\n",
        "\n",
        "\treturn trained_model, model"
      ],
      "execution_count": 0,
      "outputs": []
    },
    {
      "metadata": {
        "id": "k8u_HJFb7Wy3",
        "colab_type": "code",
        "colab": {}
      },
      "cell_type": "code",
      "source": [
        "def model_history(trained_model):\n",
        "\n",
        "  fig, axs = plt.subplots(1,2,figsize=(15,5))\n",
        "\n",
        "  axs[0].plot(trained_model.history['loss'])\n",
        "  axs[0].plot(trained_model.history['val_loss'])\n",
        "  axs[0].set_title('Model Loss')\n",
        "  axs[0].set_ylabel('Loss')\n",
        "  axs[0].set_xlabel('Epoch')\n",
        "  axs[0].legend(['Train', 'Validation'], loc='upper right')\n",
        "\n",
        "  axs[1].plot(trained_model.history['acc'])\n",
        "  axs[1].plot(trained_model.history['val_acc'])\n",
        "  axs[1].set_title('Model Accuracy')\n",
        "  axs[1].set_ylabel('Accuracy')\n",
        "  axs[1].set_xlabel('Epoch')\n",
        "  axs[1].legend(['Train', 'Validation'], loc='upper right')\n",
        "  plt.show()"
      ],
      "execution_count": 0,
      "outputs": []
    },
    {
      "metadata": {
        "id": "wdvh04T_7ZeT",
        "colab_type": "code",
        "colab": {}
      },
      "cell_type": "code",
      "source": [
        "claim = get_per_claim(df)\n",
        "x, y = x_value(df, num_prev_values, start, claim)\n",
        "store_y = y\n",
        "x = x[1:]\n",
        "x = np.asarray(x)\n",
        "dfx = pd.DataFrame(x)\n",
        "dfx.to_hdf(data_dir + '12_30_x_values.h5', key = 'dfx', mode = 'w')"
      ],
      "execution_count": 0,
      "outputs": []
    },
    {
      "metadata": {
        "id": "WvS0zYeuN8zf",
        "colab_type": "code",
        "outputId": "5e33e061-673f-4271-8004-b68e55d53108",
        "colab": {
          "base_uri": "https://localhost:8080/",
          "height": 139
        }
      },
      "cell_type": "code",
      "source": [
        "print(len(x), len(y))\n",
        "y = y_value(y, num_classes, cutoff)\n",
        "dfy = pd.DataFrame(y)\n",
        "dfy.to_hdf(data_dir + '12_30_y.h5', key = 'dfy', mode = 'w')\n",
        "print('x and y created')\n",
        "x, y = equalSplit(x, y, ratio, num_classes)\n",
        "print('x and y equally splitted')\n",
        "\n",
        "X_scaled = preprocessing.scale(x)\n",
        "y = y.astype(int)\n",
        "x_train, x_test, y_train, y_test = train_test_split(X_scaled, y, test_size=0.4, random_state=42)\n",
        "x_val, x_test, y_val, y_test = train_test_split(x_test, y_test, test_size=0.2, random_state=42)\n",
        "\n",
        "# print(np.count_nonzero(y_train == 4))\n",
        "# print(np.count_nonzero(y_train == 3))\n",
        "# print(np.count_nonzero(y_train == 2))\n",
        "# print(np.count_nonzero(y_train == 1))\n",
        "# print(np.count_nonzero(y_train == 0))\n",
        "\n",
        "y_train = np.squeeze(np.eye(num_classes)[y_train.reshape(-1)])\n",
        "print(len(X_scaled), len(y))\n",
        "y_val = np.squeeze(np.eye(num_classes)[y_val.reshape(-1)])\n",
        "y_test = np.squeeze(np.eye(num_classes)[y_test.reshape(-1)])"
      ],
      "execution_count": 0,
      "outputs": [
        {
          "output_type": "stream",
          "text": [
            "1637685 1637685\n",
            "x and y created\n",
            "x and y equally splitted\n"
          ],
          "name": "stdout"
        },
        {
          "output_type": "stream",
          "text": [
            "/usr/local/lib/python3.6/dist-packages/sklearn/preprocessing/data.py:180: UserWarning: Numerical issues were encountered when centering the data and might not be solved. Dataset may contain too large values. You may need to prescale your features.\n",
            "  warnings.warn(\"Numerical issues were encountered \"\n"
          ],
          "name": "stderr"
        },
        {
          "output_type": "stream",
          "text": [
            "1637685 1637685\n"
          ],
          "name": "stdout"
        }
      ]
    },
    {
      "metadata": {
        "id": "NQGSxnkjODVo",
        "colab_type": "code",
        "outputId": "1721dc0a-1adf-45ce-c446-c1300341da31",
        "colab": {
          "base_uri": "https://localhost:8080/",
          "height": 1066
        }
      },
      "cell_type": "code",
      "source": [
        "# print('Training started')\n",
        "# clf = MLPClassifier()\n",
        "# clf.fit(x_train, y_train)\n",
        "\n",
        "# print('Testing Started')\n",
        "# y_pred = clf.predict(x_train)\n",
        "# print('Train Accuracy - ', accuracy_score(y_train, y_pred))\n",
        "# y_pred = clf.predict(x_test)\n",
        "# print('Test Accuracy - ', accuracy_score(y_test, y_pred))\n",
        "# print(len(x_train), len(x_test))\n",
        "\n",
        "INPUT_SHAPE_1 = (8 + num_prev_values, )\n",
        "EPOCHS = 1\n",
        "BATCH_SIZE = 512\n",
        "DROPOUT = 0.15\n",
        "PAT = 10\n",
        "\n",
        "K.clear_session()\n",
        "model = define_model_2(num_classes)\n",
        "trained_model, model = run_model_2(x_train, x_val, y_train, y_val, model)\n",
        "model_history(trained_model)"
      ],
      "execution_count": 0,
      "outputs": [
        {
          "output_type": "stream",
          "text": [
            "WARNING:tensorflow:From /usr/local/lib/python3.6/dist-packages/tensorflow/python/framework/op_def_library.py:263: colocate_with (from tensorflow.python.framework.ops) is deprecated and will be removed in a future version.\n",
            "Instructions for updating:\n",
            "Colocations handled automatically by placer.\n",
            "_________________________________________________________________\n",
            "Layer (type)                 Output Shape              Param #   \n",
            "=================================================================\n",
            "features (InputLayer)        (None, 20)                0         \n",
            "_________________________________________________________________\n",
            "Fully_Connected_Layer_0 (Den (None, 1024)              21504     \n",
            "_________________________________________________________________\n",
            "leaky_re_lu_1 (LeakyReLU)    (None, 1024)              0         \n",
            "_________________________________________________________________\n",
            "Fully_Connected_Layer_1 (Den (None, 512)               524800    \n",
            "_________________________________________________________________\n",
            "leaky_re_lu_2 (LeakyReLU)    (None, 512)               0         \n",
            "_________________________________________________________________\n",
            "Fully_Connected_Layer_2 (Den (None, 256)               131328    \n",
            "_________________________________________________________________\n",
            "leaky_re_lu_3 (LeakyReLU)    (None, 256)               0         \n",
            "_________________________________________________________________\n",
            "Fully_Connected_Layer_3 (Den (None, 128)               32896     \n",
            "_________________________________________________________________\n",
            "leaky_re_lu_4 (LeakyReLU)    (None, 128)               0         \n",
            "_________________________________________________________________\n",
            "Fully_Connected_Layer_4 (Den (None, 64)                8256      \n",
            "_________________________________________________________________\n",
            "leaky_re_lu_5 (LeakyReLU)    (None, 64)                0         \n",
            "_________________________________________________________________\n",
            "Fully_Connected_Layer_5 (Den (None, 10)                650       \n",
            "=================================================================\n",
            "Total params: 719,434\n",
            "Trainable params: 719,434\n",
            "Non-trainable params: 0\n",
            "_________________________________________________________________\n",
            "None\n",
            "WARNING:tensorflow:From /usr/local/lib/python3.6/dist-packages/tensorflow/python/ops/math_ops.py:3066: to_int32 (from tensorflow.python.ops.math_ops) is deprecated and will be removed in a future version.\n",
            "Instructions for updating:\n",
            "Use tf.cast instead.\n",
            "Train on 982611 samples, validate on 524059 samples\n",
            "Epoch 1/1\n",
            "982611/982611 [==============================] - 24s 24us/step - loss: 0.1170 - acc: 0.9548 - val_loss: 0.0559 - val_acc: 0.9768\n"
          ],
          "name": "stdout"
        },
        {
          "output_type": "display_data",
          "data": {
            "image/png": "[encoded data removed]",
            "text/plain": [
              "<Figure size 1080x360 with 2 Axes>"
            ]
          },
          "metadata": {
            "tags": []
          }
        }
      ]
    },
    {
      "metadata": {
        "id": "otpZIsSCHQ9W",
        "colab_type": "code",
        "outputId": "43c81e5d-3e9e-43cd-f2d3-551149442742",
        "colab": {
          "base_uri": "https://localhost:8080/",
          "height": 34
        }
      },
      "cell_type": "code",
      "source": [
        "y_pred = (model.predict(x_test)).argmax(axis=-1)\n",
        "y_test = [np.where(r==1)[0][0] for r in y_test]\n",
        "print(accuracy_score(y_test, y_pred))"
      ],
      "execution_count": 0,
      "outputs": [
        {
          "output_type": "stream",
          "text": [
            "0.9769873678586422\n"
          ],
          "name": "stdout"
        }
      ]
    },
    {
      "metadata": {
        "id": "W8Hy6EPtga-2",
        "colab_type": "code",
        "outputId": "68dd5d78-a816-4017-9d0b-22249d326d34",
        "colab": {
          "base_uri": "https://localhost:8080/",
          "height": 306
        }
      },
      "cell_type": "code",
      "source": [
        "from sklearn.metrics import classification_report\n",
        "print(classification_report(y_test, y_pred))"
      ],
      "execution_count": 0,
      "outputs": [
        {
          "output_type": "stream",
          "text": [
            "              precision    recall  f1-score   support\n",
            "\n",
            "           0       0.97      1.00      0.98     38216\n",
            "           1       1.00      0.96      0.98     29866\n",
            "           2       0.99      1.00      1.00     21864\n",
            "           3       1.00      0.98      0.99     12892\n",
            "           4       0.98      0.99      0.99      9496\n",
            "           5       0.99      1.00      0.99      6567\n",
            "           6       1.00      0.91      0.95      5164\n",
            "           7       0.75      1.00      0.86      3392\n",
            "           8       0.91      0.71      0.80      2431\n",
            "           9       1.00      0.85      0.92      1127\n",
            "\n",
            "   micro avg       0.98      0.98      0.98    131015\n",
            "   macro avg       0.96      0.94      0.95    131015\n",
            "weighted avg       0.98      0.98      0.98    131015\n",
            "\n"
          ],
          "name": "stdout"
        }
      ]
    },
    {
      "metadata": {
        "colab_type": "code",
        "id": "vx1QgyYMhEjV",
        "outputId": "8a264a3b-18d0-4de8-bb2a-efafb7f81563",
        "colab": {
          "base_uri": "https://localhost:8080/",
          "height": 34
        }
      },
      "cell_type": "code",
      "source": [
        "y_pred = (model.predict(x_train)).argmax(axis=-1)\n",
        "y_train = [np.where(r==1)[0][0] for r in y_train]\n",
        "print(accuracy_score(y_pred, y_train))"
      ],
      "execution_count": 0,
      "outputs": [
        {
          "output_type": "stream",
          "text": [
            "0.9770529741678039\n"
          ],
          "name": "stdout"
        }
      ]
    },
    {
      "metadata": {
        "colab_type": "code",
        "id": "kIbsHbqahEjr",
        "outputId": "4ac2e57b-f327-48cd-bbfc-63dc7d91b423",
        "colab": {
          "base_uri": "https://localhost:8080/",
          "height": 306
        }
      },
      "cell_type": "code",
      "source": [
        "from sklearn.metrics import classification_report\n",
        "print(classification_report(y_train, y_pred))"
      ],
      "execution_count": 0,
      "outputs": [
        {
          "output_type": "stream",
          "text": [
            "              precision    recall  f1-score   support\n",
            "\n",
            "           0       0.97      1.00      0.98    288196\n",
            "           1       1.00      0.95      0.98    224022\n",
            "           2       0.99      1.00      1.00    162757\n",
            "           3       1.00      0.98      0.99     96362\n",
            "           4       0.98      1.00      0.99     71291\n",
            "           5       0.99      1.00      0.99     49407\n",
            "           6       1.00      0.91      0.95     37761\n",
            "           7       0.75      1.00      0.86     25809\n",
            "           8       0.92      0.71      0.80     18783\n",
            "           9       1.00      0.86      0.92      8223\n",
            "\n",
            "   micro avg       0.98      0.98      0.98    982611\n",
            "   macro avg       0.96      0.94      0.95    982611\n",
            "weighted avg       0.98      0.98      0.98    982611\n",
            "\n"
          ],
          "name": "stdout"
        }
      ]
    },
    {
      "metadata": {
        "colab_type": "code",
        "id": "kK44HWGch3W_",
        "outputId": "6ae8e515-e3ca-49b0-c462-3cf1b537daca",
        "colab": {
          "base_uri": "https://localhost:8080/",
          "height": 34
        }
      },
      "cell_type": "code",
      "source": [
        "y_pred = (model.predict(x_val)).argmax(axis=-1)\n",
        "y_val = [np.where(r==1)[0][0] for r in y_val]\n",
        "print(accuracy_score(y_val, y_pred))"
      ],
      "execution_count": 0,
      "outputs": [
        {
          "output_type": "stream",
          "text": [
            "0.9768117711937014\n"
          ],
          "name": "stdout"
        }
      ]
    },
    {
      "metadata": {
        "colab_type": "code",
        "id": "Z6R9uz65h3XJ",
        "outputId": "910ae711-8d06-458b-8ed0-b6d636bb196d",
        "colab": {
          "base_uri": "https://localhost:8080/",
          "height": 306
        }
      },
      "cell_type": "code",
      "source": [
        "from sklearn.metrics import classification_report\n",
        "print(classification_report(y_val, y_pred))"
      ],
      "execution_count": 0,
      "outputs": [
        {
          "output_type": "stream",
          "text": [
            "              precision    recall  f1-score   support\n",
            "\n",
            "           0       0.97      1.00      0.98    153420\n",
            "           1       1.00      0.95      0.98    119221\n",
            "           2       0.99      1.00      1.00     86768\n",
            "           3       1.00      0.98      0.99     52357\n",
            "           4       0.98      1.00      0.99     37993\n",
            "           5       0.99      1.00      0.99     26077\n",
            "           6       1.00      0.91      0.95     20217\n",
            "           7       0.75      1.00      0.86     13491\n",
            "           8       0.92      0.70      0.80     10043\n",
            "           9       1.00      0.86      0.92      4472\n",
            "\n",
            "   micro avg       0.98      0.98      0.98    524059\n",
            "   macro avg       0.96      0.94      0.95    524059\n",
            "weighted avg       0.98      0.98      0.98    524059\n",
            "\n"
          ],
          "name": "stdout"
        }
      ]
    },
    {
      "metadata": {
        "id": "YRjxjnvprm86",
        "colab_type": "code",
        "colab": {}
      },
      "cell_type": "code",
      "source": [
        "unique, counts = np.unique(y_train, return_counts=True)"
      ],
      "execution_count": 0,
      "outputs": []
    },
    {
      "metadata": {
        "id": "SIqFJ9cV0Fnh",
        "colab_type": "code",
        "outputId": "82d9e36f-15fc-4e8b-e70e-300e01310f5f",
        "colab": {
          "base_uri": "https://localhost:8080/",
          "height": 34
        }
      },
      "cell_type": "code",
      "source": [
        "print(unique, counts)"
      ],
      "execution_count": 0,
      "outputs": [
        {
          "output_type": "stream",
          "text": [
            "[0 1 2 3 4 5 6 7 8 9] [288196 224022 162757  96362  71291  49407  37761  25809  18783   8223]\n"
          ],
          "name": "stdout"
        }
      ]
    }
  ]
}